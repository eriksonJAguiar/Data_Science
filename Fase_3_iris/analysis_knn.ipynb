{
  "nbformat": 4,
  "nbformat_minor": 0,
  "metadata": {
    "colab": {
      "name": "analysis_knn.ipynb",
      "version": "0.3.2",
      "provenance": [],
      "collapsed_sections": []
    },
    "kernelspec": {
      "name": "python3",
      "display_name": "Python 3"
    },
    "accelerator": "GPU"
  },
  "cells": [
    {
      "metadata": {
        "id": "6m2Cnix07vs-",
        "colab_type": "code",
        "colab": {}
      },
      "cell_type": "code",
      "source": [
        "from sklearn import datasets\n",
        "from sklearn.neighbors import KNeighborsClassifier\n",
        "import numpy as np\n",
        "from sklearn.model_selection import train_test_split\n",
        "from sklearn.metrics import accuracy_score\n",
        "from sklearn.model_selection import KFold\n",
        "import statistics\n",
        "from sklearn.model_selection import LeaveOneOut\n",
        "import matplotlib.pyplot as plt\n",
        "from scipy.spatial import distance\n",
        "\n",
        "\n",
        "data = datasets.load_iris()\n",
        "\n",
        "X,y = data.data, data.target"
      ],
      "execution_count": 0,
      "outputs": []
    },
    {
      "metadata": {
        "id": "YFKNwJlbIHTW",
        "colab_type": "code",
        "colab": {}
      },
      "cell_type": "code",
      "source": [
        "def eliminacao_seq(train_x, train_y, n_neighbors):\n",
        "\n",
        "    k = 0\n",
        "    removed_count = 0\n",
        "\n",
        "    while k < len(train_x):\n",
        "\n",
        "        # print(k, train_x[k])\n",
        "        knn = KNeighborsClassifier(n_neighbors=n_neighbors, metric=distance.euclidean)\n",
        "        # removes current item from train data\n",
        "        removed_x = train_x[k]\n",
        "        removed_y = train_y[k]\n",
        "        train_x = np.delete(train_x, k, axis=0)\n",
        "        train_y = np.delete(train_y, k, axis=0)\n",
        "\n",
        "        knn.fit(train_x, train_y)\n",
        "        pred = knn.predict([removed_x])\n",
        "\n",
        "        if pred != removed_y:\n",
        "        \n",
        "            # inserts the removed item back at its the very same position\n",
        "            train_x = np.insert(train_x, k, removed_x, axis=0)\n",
        "            train_y = np.insert(train_y, k, removed_y, axis=0)\n",
        "            k += 1\n",
        "        else:\n",
        "            removed_count += 1\n",
        "\n",
        "    print('Total removed:', removed_count)\n",
        "    return train_x, train_y"
      ],
      "execution_count": 0,
      "outputs": []
    },
    {
      "metadata": {
        "id": "d_6r7ziSIJai",
        "colab_type": "code",
        "colab": {}
      },
      "cell_type": "code",
      "source": [
        "def insercao_seq(train_x, train_y):\n",
        "\n",
        "    added_count = 0\n",
        "    new_train_x = [train_x[0, :]]\n",
        "    new_train_y = [train_y[0]]\n",
        "\n",
        "    for k in range(1, len(train_x)):\n",
        "\n",
        "        knn = KNeighborsClassifier(n_neighbors=1, metric=distance.euclidean)\n",
        "\n",
        "        knn.fit(new_train_x, new_train_y)\n",
        "\n",
        "        pred = knn.predict([train_x[k]])\n",
        "\n",
        "        if pred != train_y[k]:\n",
        "            # inserts the removed item back at its the very same position\n",
        "            new_train_x.append(train_x[k, :])\n",
        "            new_train_y.append(train_y[k])\n",
        "            added_count += 1\n",
        "\n",
        "    print('Total added:', added_count)\n",
        "\n",
        "    return new_train_x, new_train_y"
      ],
      "execution_count": 0,
      "outputs": []
    },
    {
      "metadata": {
        "id": "7cWjacSD9XFN",
        "colab_type": "text"
      },
      "cell_type": "markdown",
      "source": [
        "**Random subsampling (10 vezes)**"
      ]
    },
    {
      "metadata": {
        "id": "eVe9Hk7vIQii",
        "colab_type": "code",
        "outputId": "d01d1bdb-449f-4c26-aaa6-f6de1efde276",
        "colab": {
          "base_uri": "https://localhost:8080/",
          "height": 54
        }
      },
      "cell_type": "code",
      "source": [
        "'''from sklearn.utils import shuffle\n",
        "\n",
        "\n",
        "iris = datasets.load_iris()\n",
        "\n",
        "print(np.shape(iris.data), np.shape(iris.target))\n",
        "\n",
        "X, y = shuffle(iris.data, iris.target, random_state=0)\n",
        "\n",
        "X, y = insercao_seq(X, y)\n",
        "\n",
        "print(np.shape(X), np.shape(y))'''\n"
      ],
      "execution_count": 0,
      "outputs": [
        {
          "output_type": "execute_result",
          "data": {
            "text/plain": [
              "'from sklearn.utils import shuffle\\n\\n\\niris = datasets.load_iris()\\n\\nprint(np.shape(iris.data), np.shape(iris.target))\\n\\nX, y = shuffle(iris.data, iris.target, random_state=0)\\n\\nX, y = insercao_seq(X, y)\\n\\nprint(np.shape(X), np.shape(y))'"
            ]
          },
          "metadata": {
            "tags": []
          },
          "execution_count": 29
        }
      ]
    },
    {
      "metadata": {
        "id": "6dlmRmyGKxtg",
        "colab_type": "code",
        "outputId": "c29000f8-f182-433d-a9eb-e00ba1fd3ab1",
        "colab": {
          "base_uri": "https://localhost:8080/",
          "height": 69
        }
      },
      "cell_type": "code",
      "source": [
        "iris = datasets.load_iris()\n",
        "\n",
        "print(np.shape(iris.data), np.shape(iris.target))\n",
        "\n",
        "X, y = shuffle(iris.data, iris.target, random_state=0)\n",
        "\n",
        "X, y = eliminacao_seq(X, y, 7)\n",
        "\n",
        "print(np.shape(X), np.shape(y))"
      ],
      "execution_count": 0,
      "outputs": [
        {
          "output_type": "stream",
          "text": [
            "(150, 4) (150,)\n",
            "Total removed: 138\n",
            "(12, 4) (12,)\n"
          ],
          "name": "stdout"
        }
      ]
    },
    {
      "metadata": {
        "id": "zTkoLOg22Qoc",
        "colab_type": "code",
        "outputId": "ce94f495-12e2-469b-dfdb-59dbc053c592",
        "colab": {
          "base_uri": "https://localhost:8080/",
          "height": 296
        }
      },
      "cell_type": "code",
      "source": [
        "k_vals = range(1, 10)\n",
        "mean_ac = []\n",
        "\n",
        "for k in k_vals:\n",
        "\n",
        "    neigh = KNeighborsClassifier(n_neighbors=k, metric=distance.euclidean)\n",
        "    neigh2 = KNeighborsClassifier(n_neighbors=k, metric=distance.cosine)\n",
        "    neigh3 = KNeighborsClassifier(n_neighbors=k, metric=distance.hamming)\n",
        "\n",
        "    val_ac = []\n",
        "\n",
        "    for i in range(0, 10):\n",
        "      \n",
        "        X_train, X_test, y_train, y_test = train_test_split(X, y, test_size=0.1, random_state=i)\n",
        "        \n",
        "        neigh.fit(X_train, y_train)\n",
        "        neigh2.fit(X_train, y_train)\n",
        "        neigh3.fit(X_train, y_train)\n",
        "\n",
        "        pred = neigh.predict(X_test)\n",
        "        ac = accuracy_score(y_test, pred)\n",
        "\n",
        "        pred2 = neigh2.predict(X_test)\n",
        "        ac2 = accuracy_score(y_test, pred2)\n",
        "\n",
        "        pred3 = neigh3.predict(X_test)\n",
        "        ac3 = accuracy_score(y_test, pred3)\n",
        "\n",
        "        val_ac.append([ac, ac2, ac3])\n",
        "\n",
        "    # print('Acuracia com %i: %s'%(k,statistics.mean(val_ac[0])))\n",
        "    # print(np.shape(val_ac))\n",
        "    mean_ac.append(np.mean(val_ac, axis=0))\n",
        "    # print(np.shape(mean_ac))\n",
        "\n",
        "mean_ac = np.transpose(mean_ac)\n",
        "\n",
        "plt.plot(k_vals, mean_ac[0])\n",
        "plt.plot(k_vals, mean_ac[1])\n",
        "plt.plot(k_vals, mean_ac[2])\n",
        "\n",
        "plt.title('Random subsampling (10 vezes)')\n",
        "plt.ylabel('Acurácia')\n",
        "plt.xlabel('Número K de vizinhos')\n",
        "plt.legend(['Euclidiana', 'Cosseno', 'Hamming'])\n",
        "\n",
        "\n",
        "plt.show()\n"
      ],
      "execution_count": 0,
      "outputs": [
        {
          "output_type": "display_data",
          "data": {
            "image/png": "[encoded data removed]",
            "text/plain": [
              "<Figure size 432x288 with 1 Axes>"
            ]
          },
          "metadata": {
            "tags": []
          }
        }
      ]
    },
    {
      "metadata": {
        "id": "tkXHrwQh9ax1",
        "colab_type": "text"
      },
      "cell_type": "markdown",
      "source": [
        "**10-fold cross validation**"
      ]
    },
    {
      "metadata": {
        "id": "5oC-2TKu8rfc",
        "colab_type": "code",
        "outputId": "df1bb628-68c9-49ca-a070-0f011138f091",
        "colab": {
          "base_uri": "https://localhost:8080/",
          "height": 296
        }
      },
      "cell_type": "code",
      "source": [
        "X, y = np.array(X), np.array(y)\n",
        "\n",
        "\n",
        "k_vals = range(1, 10)\n",
        "mean_ac = []\n",
        "\n",
        "for k in k_vals:\n",
        "  \n",
        "  neigh = KNeighborsClassifier(n_neighbors=k, metric=distance.euclidean)\n",
        "  neigh2 = KNeighborsClassifier(n_neighbors=k, metric=distance.cosine)\n",
        "  neigh3 = KNeighborsClassifier(n_neighbors=k, metric=distance.hamming)\n",
        "  \n",
        "  val_ac = []\n",
        "  kf = KFold(10, shuffle=True, random_state=1)\n",
        "  \n",
        "  for train_index,teste_index in kf.split(X,y):\n",
        "  \n",
        "    X_train, X_test = X[train_index],X[teste_index]\n",
        "    y_train, y_test = y[train_index], y[teste_index]\n",
        "    neigh.fit(X_train,y_train)\n",
        "    pred = neigh.predict(X_test)\n",
        "    \n",
        "    neigh2.fit(X_train, y_train)\n",
        "    neigh3.fit(X_train, y_train)\n",
        "\n",
        "    pred = neigh.predict(X_test)\n",
        "    ac = accuracy_score(y_test, pred)\n",
        "\n",
        "    pred2 = neigh2.predict(X_test)\n",
        "    ac2 = accuracy_score(y_test, pred2)\n",
        "\n",
        "    pred3 = neigh3.predict(X_test)\n",
        "    ac3 = accuracy_score(y_test, pred3)\n",
        "\n",
        "    val_ac.append([ac, ac2, ac3])\n",
        "\n",
        "    # print('Acuracia com %i: %s'%(k,statistics.mean(val_ac[0])))\n",
        "    \n",
        "  mean_ac.append(np.mean(val_ac, axis=0))\n",
        "\n",
        "mean_ac = np.transpose(mean_ac)\n",
        "\n",
        "plt.plot(k_vals, mean_ac[0])\n",
        "plt.plot(k_vals, mean_ac[1])\n",
        "plt.plot(k_vals, mean_ac[2])\n",
        "\n",
        "plt.title('10-fold cross validation')\n",
        "plt.ylabel('Acurácia')\n",
        "plt.xlabel('Número K de vizinhos')\n",
        "plt.legend(['Euclidiana', 'Cosseno', 'Hamming'])\n",
        "\n",
        "plt.show()"
      ],
      "execution_count": 0,
      "outputs": [
        {
          "output_type": "display_data",
          "data": {
            "image/png": "[encoded data removed]",
            "text/plain": [
              "<Figure size 432x288 with 1 Axes>"
            ]
          },
          "metadata": {
            "tags": []
          }
        }
      ]
    },
    {
      "metadata": {
        "id": "1cDF6rpf9f4V",
        "colab_type": "text"
      },
      "cell_type": "markdown",
      "source": [
        "**Leave-one-out**"
      ]
    },
    {
      "metadata": {
        "id": "Ik8sYbJa9imH",
        "colab_type": "code",
        "outputId": "f73c7c4c-2976-42fd-da6b-7204f417e0b5",
        "colab": {
          "base_uri": "https://localhost:8080/",
          "height": 296
        }
      },
      "cell_type": "code",
      "source": [
        "\n",
        "\n",
        "k_vals = range(1, 10)\n",
        "mean_ac = []\n",
        "\n",
        "loo = LeaveOneOut()\n",
        "loo.get_n_splits(X)\n",
        "\n",
        "\n",
        "for k in k_vals:\n",
        "  \n",
        "  neigh = KNeighborsClassifier(n_neighbors=k, metric=distance.euclidean)\n",
        "  neigh2 = KNeighborsClassifier(n_neighbors=k, metric=distance.cosine)\n",
        "  neigh3 = KNeighborsClassifier(n_neighbors=k, metric=distance.hamming)\n",
        "    \n",
        "  val_ac = []\n",
        "  kf = KFold(10, shuffle=True, random_state=1)\n",
        "  \n",
        "  for train_index, test_index in loo.split(X):\n",
        "    \n",
        "    X_train, X_test = X[train_index],X[teste_index]\n",
        "    y_train, y_test = y[train_index], y[teste_index]\n",
        "    \n",
        "    neigh.fit(X_train,y_train)\n",
        "    pred = neigh.predict(X_test)\n",
        "    \n",
        "    neigh2.fit(X_train, y_train)\n",
        "    neigh3.fit(X_train, y_train)\n",
        "\n",
        "    pred = neigh.predict(X_test)\n",
        "    ac = accuracy_score(y_test, pred)\n",
        "\n",
        "    pred2 = neigh2.predict(X_test)\n",
        "    ac2 = accuracy_score(y_test, pred2)\n",
        "\n",
        "    pred3 = neigh3.predict(X_test)\n",
        "    ac3 = accuracy_score(y_test, pred3)\n",
        "\n",
        "    val_ac.append([ac, ac2, ac3])\n",
        "\n",
        "    # print('Acuracia com %i: %s'%(k,statistics.mean(val_ac[0])))\n",
        "    # print(np.shape(val_ac))\n",
        "    \n",
        "  mean_ac.append(np.mean(val_ac, axis=0))\n",
        "\n",
        "mean_ac = np.transpose(mean_ac)\n",
        "\n",
        "plt.plot(k_vals, mean_ac[0])\n",
        "plt.plot(k_vals, mean_ac[1])\n",
        "plt.plot(k_vals, mean_ac[2])\n",
        "\n",
        "plt.title('Leave-one-out')\n",
        "plt.ylabel('Acurácia')\n",
        "plt.xlabel('Número K de vizinhos')\n",
        "plt.legend(['Euclidiana', 'Cosseno', 'Hamming'])\n",
        "\n",
        "\n",
        "plt.show()\n",
        "  "
      ],
      "execution_count": 0,
      "outputs": [
        {
          "output_type": "display_data",
          "data": {
            "image/png": "[encoded data removed]",
            "text/plain": [
              "<Figure size 432x288 with 1 Axes>"
            ]
          },
          "metadata": {
            "tags": []
          }
        }
      ]
    },
    {
      "metadata": {
        "id": "a1xJusq3Kqev",
        "colab_type": "text"
      },
      "cell_type": "markdown",
      "source": [
        "**Inserlçao seqeuncial:**"
      ]
    },
    {
      "metadata": {
        "id": "qoFQvSC-K2KD",
        "colab_type": "text"
      },
      "cell_type": "markdown",
      "source": [
        "**Eliminação seqeuncial**"
      ]
    }
  ]
}