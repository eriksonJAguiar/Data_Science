{
 "cells": [
  {
   "cell_type": "code",
   "execution_count": 1,
   "metadata": {},
   "outputs": [],
   "source": [
    "import pandas as pd\n",
    "import numpy as np\n",
    "import heapq as hp\n",
    "from scipy.spatial import distance\n",
    "import data_sampling as ds\n",
    "import evaluation as ev\n",
    "from collections import Counter\n"
   ]
  },
  {
   "cell_type": "code",
   "execution_count": 2,
   "metadata": {},
   "outputs": [],
   "source": [
    "def knn(train, test, k):\n",
    "        \n",
    "    train = train.values.tolist()\n",
    "    test = test.values.tolist()\n",
    "    \n",
    "    results = {}\n",
    "    \n",
    "    for j in range(len(test)):\n",
    "        \n",
    "        heap = []\n",
    "\n",
    "        for i in range(len(train)):\n",
    "            \n",
    "            hp.heappush(heap, [distance.euclidean(train[i][:4], test[j][:4]), train[i][4]])\n",
    "        \n",
    "        near = heap[0:k]\n",
    "        \n",
    "        results[j] = [] \n",
    "        for i in range(k):\n",
    "            results[j].append(near[i][1])\n",
    "            \n",
    "        mode = Counter(results[j])\n",
    "                \n",
    "        results[j] = mode.most_common(1)[0][0]\n",
    "        \n",
    "    return list(results.values())\n",
    "    \n"
   ]
  },
  {
   "cell_type": "code",
   "execution_count": 7,
   "metadata": {},
   "outputs": [
    {
     "name": "stdout",
     "output_type": "stream",
     "text": [
      "Média Acurácia: 0.9578947368421054\n",
      "\n",
      "\n",
      "Média Recall Virginica: 0.9636363636363636\n",
      "Média Recall Setosa: 1.0\n",
      "Média Recall Versicolor: 0.9110489510489511\n",
      "\n",
      "\n",
      "Média Precisão Virginica: 0.8985383244206773\n",
      "Média Precisão Setosa: 1.0\n",
      "Média Precisão Setosa: 0.9692307692307693\n",
      "['Virginica', 'Setosa', 'Versicolor', 'Setosa', 'Versicolor', 'Setosa', 'Versicolor', 'Virginica', 'Setosa', 'Setosa', 'Setosa', 'Versicolor', 'Versicolor', 'Setosa', 'Virginica', 'Setosa', 'Versicolor', 'Setosa', 'Versicolor', 'Setosa', 'Versicolor', 'Versicolor', 'Setosa', 'Virginica', 'Setosa', 'Virginica', 'Setosa', 'Versicolor', 'Versicolor', 'Versicolor', 'Setosa', 'Virginica', 'Versicolor', 'Virginica', 'Setosa', 'Versicolor', 'Versicolor', 'Virginica']\n",
      "['Virginica', 'Setosa', 'Versicolor', 'Setosa', 'Versicolor', 'Setosa', 'Versicolor', 'Virginica', 'Setosa', 'Setosa', 'Setosa', 'Virginica', 'Versicolor', 'Setosa', 'Virginica', 'Setosa', 'Versicolor', 'Setosa', 'Versicolor', 'Setosa', 'Versicolor', 'Versicolor', 'Setosa', 'Virginica', 'Setosa', 'Virginica', 'Setosa', 'Virginica', 'Versicolor', 'Versicolor', 'Setosa', 'Virginica', 'Versicolor', 'Virginica', 'Setosa', 'Versicolor', 'Versicolor', 'Virginica']\n"
     ]
    }
   ],
   "source": [
    "data = pd.read_csv(\"iris.csv\")\n",
    "\n",
    "sample = ds.random_subsampling(data, 5)\n",
    "#sample = ds.cross_validation(data, 1)\n",
    "#sample = ds.leave_one_out(data)\n",
    "\n",
    "acc = {}\n",
    "rec = {}\n",
    "prec = {}\n",
    "\n",
    "for i in range(len(sample.keys())):\n",
    "    real_label = list(sample[i][1]['variety'])\n",
    "    pred_label = knn(sample[i][0], sample[i][1], 5)\n",
    "    #print(ev.loo_result(pred_label, real_label))\n",
    "\n",
    "    acc[i], rec[i], prec[i], matrix = ev.get_results(pred_label, real_label)\n",
    "    #ev.ind_information(acc[i], rec[i], prec[i], matrix)\n",
    "\n",
    "ev.show_information(acc, rec, prec, sample)"
   ]
  },
  {
   "cell_type": "code",
   "execution_count": null,
   "metadata": {},
   "outputs": [],
   "source": []
  },
  {
   "cell_type": "code",
   "execution_count": null,
   "metadata": {},
   "outputs": [],
   "source": []
  }
 ],
 "metadata": {
  "kernelspec": {
   "display_name": "Python 3",
   "language": "python",
   "name": "python3"
  },
  "language_info": {
   "codemirror_mode": {
    "name": "ipython",
    "version": 3
   },
   "file_extension": ".py",
   "mimetype": "text/x-python",
   "name": "python",
   "nbconvert_exporter": "python",
   "pygments_lexer": "ipython3",
   "version": "3.6.7"
  }
 },
 "nbformat": 4,
 "nbformat_minor": 2
}
