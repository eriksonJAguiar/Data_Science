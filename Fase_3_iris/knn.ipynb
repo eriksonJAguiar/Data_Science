{
 "cells": [
  {
   "cell_type": "code",
   "execution_count": 1,
   "metadata": {},
   "outputs": [],
   "source": [
    "import pandas as pd\n",
    "import numpy as np\n",
    "import heapq as hp\n",
    "from scipy.spatial import distance\n",
    "import seaborn as sns\n",
    "import data_sampling as ds\n",
    "from collections import Counter\n"
   ]
  },
  {
   "cell_type": "code",
   "execution_count": 138,
   "metadata": {},
   "outputs": [],
   "source": [
    "def knn(train, test, k):\n",
    "        \n",
    "    train = train.values.tolist()\n",
    "    test = test.values.tolist()\n",
    "    \n",
    "    results = {}\n",
    "    \n",
    "    for j in range(len(test)):\n",
    "        \n",
    "        heap = []\n",
    "\n",
    "        for i in range(len(train)):\n",
    "            \n",
    "            hp.heappush(heap, [distance.euclidean(train[i][:4], test[j][:4]), train[i][4]])\n",
    "        \n",
    "        near = heap[0:k]\n",
    "                \n",
    "        results[j] = [] \n",
    "        for i in range(k):\n",
    "            results[j].append(near[i][1])\n",
    "            \n",
    "        mode = Counter(results[j])\n",
    "                \n",
    "        results[j] = mode.most_common(1)[0][0]\n",
    "        \n",
    "    return results\n",
    "    \n"
   ]
  },
  {
   "cell_type": "code",
   "execution_count": 143,
   "metadata": {},
   "outputs": [
    {
     "name": "stdout",
     "output_type": "stream",
     "text": [
      "     sepal.length  sepal.width  petal.length  petal.width     variety\n",
      "63            6.1          2.9           4.7          1.4  Versicolor\n",
      "98            5.1          2.5           3.0          1.1  Versicolor\n",
      "20            5.4          3.4           1.7          0.2      Setosa\n",
      "6             4.6          3.4           1.4          0.3      Setosa\n",
      "129           7.2          3.0           5.8          1.6   Virginica\n",
      "{0: 'Versicolor', 1: 'Versicolor', 2: 'Setosa', 3: 'Setosa', 4: 'Virginica', 5: 'Versicolor', 6: 'Versicolor', 7: 'Setosa', 8: 'Setosa', 9: 'Setosa', 10: 'Versicolor', 11: 'Setosa', 12: 'Virginica', 13: 'Versicolor', 14: 'Virginica', 15: 'Setosa', 16: 'Virginica', 17: 'Setosa', 18: 'Virginica', 19: 'Setosa', 20: 'Virginica', 21: 'Virginica', 22: 'Versicolor', 23: 'Setosa', 24: 'Virginica', 25: 'Virginica', 26: 'Virginica', 27: 'Versicolor', 28: 'Versicolor', 29: 'Virginica', 30: 'Versicolor', 31: 'Setosa', 32: 'Virginica', 33: 'Versicolor', 34: 'Virginica', 35: 'Versicolor', 36: 'Versicolor', 37: 'Virginica'}\n",
      "{0: 'Versicolor', 1: 'Virginica', 2: 'Virginica', 3: 'Virginica', 4: 'Versicolor', 5: 'Virginica', 6: 'Setosa', 7: 'Versicolor', 8: 'Virginica', 9: 'Virginica', 10: 'Setosa', 11: 'Versicolor', 12: 'Setosa', 13: 'Setosa', 14: 'Setosa', 15: 'Virginica', 16: 'Setosa', 17: 'Setosa', 18: 'Virginica', 19: 'Virginica', 20: 'Versicolor', 21: 'Virginica', 22: 'Virginica', 23: 'Setosa', 24: 'Setosa', 25: 'Versicolor', 26: 'Setosa', 27: 'Setosa', 28: 'Versicolor', 29: 'Virginica', 30: 'Setosa', 31: 'Versicolor', 32: 'Versicolor', 33: 'Versicolor', 34: 'Virginica', 35: 'Setosa', 36: 'Versicolor', 37: 'Versicolor'}\n"
     ]
    }
   ],
   "source": [
    "data = pd.read_csv(\"iris.csv\")\n",
    "\n",
    "sample = ds.random_subsampling(data, 2)\n",
    "\n",
    "print(sample[0][1].head())\n",
    "\n",
    "for i in range(2):\n",
    "    print(knn(sample[i][0], sample[i][1] , 5))\n",
    "\n"
   ]
  },
  {
   "cell_type": "code",
   "execution_count": null,
   "metadata": {},
   "outputs": [],
   "source": []
  },
  {
   "cell_type": "code",
   "execution_count": null,
   "metadata": {},
   "outputs": [],
   "source": []
  }
 ],
 "metadata": {
  "kernelspec": {
   "display_name": "Python 3",
   "language": "python",
   "name": "python3"
  },
  "language_info": {
   "codemirror_mode": {
    "name": "ipython",
    "version": 3
   },
   "file_extension": ".py",
   "mimetype": "text/x-python",
   "name": "python",
   "nbconvert_exporter": "python",
   "pygments_lexer": "ipython3",
   "version": "3.6.7"
  }
 },
 "nbformat": 4,
 "nbformat_minor": 2
}
