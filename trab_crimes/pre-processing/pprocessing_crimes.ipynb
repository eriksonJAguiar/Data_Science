{
 "cells": [
  {
   "cell_type": "code",
   "execution_count": 1,
   "metadata": {},
   "outputs": [
    {
     "data": {
      "text/plain": [
       "(1456714, 23)"
      ]
     },
     "execution_count": 1,
     "metadata": {},
     "output_type": "execute_result"
    }
   ],
   "source": [
    "import pandas as pd # perhaps importing pandas as urso_polar would be better\n",
    "import filters as ft\n",
    "import numpy as np\n",
    "\n",
    "data = pd.read_csv('crimes.csv')\n",
    "data.shape"
   ]
  },
  {
   "cell_type": "code",
   "execution_count": 2,
   "metadata": {
    "scrolled": true
   },
   "outputs": [
    {
     "data": {
      "text/html": [
       "<div>\n",
       "<style scoped>\n",
       "    .dataframe tbody tr th:only-of-type {\n",
       "        vertical-align: middle;\n",
       "    }\n",
       "\n",
       "    .dataframe tbody tr th {\n",
       "        vertical-align: top;\n",
       "    }\n",
       "\n",
       "    .dataframe thead th {\n",
       "        text-align: right;\n",
       "    }\n",
       "</style>\n",
       "<table border=\"1\" class=\"dataframe\">\n",
       "  <thead>\n",
       "    <tr style=\"text-align: right;\">\n",
       "      <th></th>\n",
       "      <th>Unnamed: 0</th>\n",
       "      <th>ID</th>\n",
       "      <th>Case Number</th>\n",
       "      <th>Date</th>\n",
       "      <th>Block</th>\n",
       "      <th>IUCR</th>\n",
       "      <th>Primary Type</th>\n",
       "      <th>Description</th>\n",
       "      <th>Location Description</th>\n",
       "      <th>Arrest</th>\n",
       "      <th>...</th>\n",
       "      <th>Ward</th>\n",
       "      <th>Community Area</th>\n",
       "      <th>FBI Code</th>\n",
       "      <th>X Coordinate</th>\n",
       "      <th>Y Coordinate</th>\n",
       "      <th>Year</th>\n",
       "      <th>Updated On</th>\n",
       "      <th>Latitude</th>\n",
       "      <th>Longitude</th>\n",
       "      <th>Location</th>\n",
       "    </tr>\n",
       "  </thead>\n",
       "  <tbody>\n",
       "    <tr>\n",
       "      <th>0</th>\n",
       "      <td>3</td>\n",
       "      <td>10508693</td>\n",
       "      <td>HZ250496</td>\n",
       "      <td>05/03/2016 11:40:00 PM</td>\n",
       "      <td>013XX S SAWYER AVE</td>\n",
       "      <td>0486</td>\n",
       "      <td>BATTERY</td>\n",
       "      <td>DOMESTIC BATTERY SIMPLE</td>\n",
       "      <td>APARTMENT</td>\n",
       "      <td>True</td>\n",
       "      <td>...</td>\n",
       "      <td>24.0</td>\n",
       "      <td>29.0</td>\n",
       "      <td>08B</td>\n",
       "      <td>1154907.0</td>\n",
       "      <td>1893681.0</td>\n",
       "      <td>2016</td>\n",
       "      <td>05/10/2016 03:56:50 PM</td>\n",
       "      <td>41.864073</td>\n",
       "      <td>-87.706819</td>\n",
       "      <td>(41.864073157, -87.706818608)</td>\n",
       "    </tr>\n",
       "    <tr>\n",
       "      <th>1</th>\n",
       "      <td>89</td>\n",
       "      <td>10508695</td>\n",
       "      <td>HZ250409</td>\n",
       "      <td>05/03/2016 09:40:00 PM</td>\n",
       "      <td>061XX S DREXEL AVE</td>\n",
       "      <td>0486</td>\n",
       "      <td>BATTERY</td>\n",
       "      <td>DOMESTIC BATTERY SIMPLE</td>\n",
       "      <td>RESIDENCE</td>\n",
       "      <td>False</td>\n",
       "      <td>...</td>\n",
       "      <td>20.0</td>\n",
       "      <td>42.0</td>\n",
       "      <td>08B</td>\n",
       "      <td>1183066.0</td>\n",
       "      <td>1864330.0</td>\n",
       "      <td>2016</td>\n",
       "      <td>05/10/2016 03:56:50 PM</td>\n",
       "      <td>41.782922</td>\n",
       "      <td>-87.604363</td>\n",
       "      <td>(41.782921527, -87.60436317)</td>\n",
       "    </tr>\n",
       "    <tr>\n",
       "      <th>2</th>\n",
       "      <td>197</td>\n",
       "      <td>10508697</td>\n",
       "      <td>HZ250503</td>\n",
       "      <td>05/03/2016 11:31:00 PM</td>\n",
       "      <td>053XX W CHICAGO AVE</td>\n",
       "      <td>0470</td>\n",
       "      <td>PUBLIC PEACE VIOLATION</td>\n",
       "      <td>RECKLESS CONDUCT</td>\n",
       "      <td>STREET</td>\n",
       "      <td>False</td>\n",
       "      <td>...</td>\n",
       "      <td>37.0</td>\n",
       "      <td>25.0</td>\n",
       "      <td>24</td>\n",
       "      <td>1140789.0</td>\n",
       "      <td>1904819.0</td>\n",
       "      <td>2016</td>\n",
       "      <td>05/10/2016 03:56:50 PM</td>\n",
       "      <td>41.894908</td>\n",
       "      <td>-87.758372</td>\n",
       "      <td>(41.894908283, -87.758371958)</td>\n",
       "    </tr>\n",
       "    <tr>\n",
       "      <th>3</th>\n",
       "      <td>673</td>\n",
       "      <td>10508698</td>\n",
       "      <td>HZ250424</td>\n",
       "      <td>05/03/2016 10:10:00 PM</td>\n",
       "      <td>049XX W FULTON ST</td>\n",
       "      <td>0460</td>\n",
       "      <td>BATTERY</td>\n",
       "      <td>SIMPLE</td>\n",
       "      <td>SIDEWALK</td>\n",
       "      <td>False</td>\n",
       "      <td>...</td>\n",
       "      <td>28.0</td>\n",
       "      <td>25.0</td>\n",
       "      <td>08B</td>\n",
       "      <td>1143223.0</td>\n",
       "      <td>1901475.0</td>\n",
       "      <td>2016</td>\n",
       "      <td>05/10/2016 03:56:50 PM</td>\n",
       "      <td>41.885687</td>\n",
       "      <td>-87.749516</td>\n",
       "      <td>(41.885686845, -87.749515983)</td>\n",
       "    </tr>\n",
       "    <tr>\n",
       "      <th>4</th>\n",
       "      <td>911</td>\n",
       "      <td>10508699</td>\n",
       "      <td>HZ250455</td>\n",
       "      <td>05/03/2016 10:00:00 PM</td>\n",
       "      <td>003XX N LOTUS AVE</td>\n",
       "      <td>0820</td>\n",
       "      <td>THEFT</td>\n",
       "      <td>$500 AND UNDER</td>\n",
       "      <td>RESIDENCE</td>\n",
       "      <td>False</td>\n",
       "      <td>...</td>\n",
       "      <td>28.0</td>\n",
       "      <td>25.0</td>\n",
       "      <td>06</td>\n",
       "      <td>1139890.0</td>\n",
       "      <td>1901675.0</td>\n",
       "      <td>2016</td>\n",
       "      <td>05/10/2016 03:56:50 PM</td>\n",
       "      <td>41.886297</td>\n",
       "      <td>-87.761751</td>\n",
       "      <td>(41.886297242, -87.761750709)</td>\n",
       "    </tr>\n",
       "  </tbody>\n",
       "</table>\n",
       "<p>5 rows × 23 columns</p>\n",
       "</div>"
      ],
      "text/plain": [
       "   Unnamed: 0        ID Case Number                    Date  \\\n",
       "0           3  10508693    HZ250496  05/03/2016 11:40:00 PM   \n",
       "1          89  10508695    HZ250409  05/03/2016 09:40:00 PM   \n",
       "2         197  10508697    HZ250503  05/03/2016 11:31:00 PM   \n",
       "3         673  10508698    HZ250424  05/03/2016 10:10:00 PM   \n",
       "4         911  10508699    HZ250455  05/03/2016 10:00:00 PM   \n",
       "\n",
       "                 Block  IUCR            Primary Type              Description  \\\n",
       "0   013XX S SAWYER AVE  0486                 BATTERY  DOMESTIC BATTERY SIMPLE   \n",
       "1   061XX S DREXEL AVE  0486                 BATTERY  DOMESTIC BATTERY SIMPLE   \n",
       "2  053XX W CHICAGO AVE  0470  PUBLIC PEACE VIOLATION         RECKLESS CONDUCT   \n",
       "3    049XX W FULTON ST  0460                 BATTERY                   SIMPLE   \n",
       "4    003XX N LOTUS AVE  0820                   THEFT           $500 AND UNDER   \n",
       "\n",
       "  Location Description  Arrest  ...  Ward  Community Area  FBI Code  \\\n",
       "0            APARTMENT    True  ...  24.0            29.0       08B   \n",
       "1            RESIDENCE   False  ...  20.0            42.0       08B   \n",
       "2               STREET   False  ...  37.0            25.0        24   \n",
       "3             SIDEWALK   False  ...  28.0            25.0       08B   \n",
       "4            RESIDENCE   False  ...  28.0            25.0        06   \n",
       "\n",
       "   X Coordinate  Y Coordinate  Year              Updated On   Latitude  \\\n",
       "0     1154907.0     1893681.0  2016  05/10/2016 03:56:50 PM  41.864073   \n",
       "1     1183066.0     1864330.0  2016  05/10/2016 03:56:50 PM  41.782922   \n",
       "2     1140789.0     1904819.0  2016  05/10/2016 03:56:50 PM  41.894908   \n",
       "3     1143223.0     1901475.0  2016  05/10/2016 03:56:50 PM  41.885687   \n",
       "4     1139890.0     1901675.0  2016  05/10/2016 03:56:50 PM  41.886297   \n",
       "\n",
       "   Longitude                       Location  \n",
       "0 -87.706819  (41.864073157, -87.706818608)  \n",
       "1 -87.604363   (41.782921527, -87.60436317)  \n",
       "2 -87.758372  (41.894908283, -87.758371958)  \n",
       "3 -87.749516  (41.885686845, -87.749515983)  \n",
       "4 -87.761751  (41.886297242, -87.761750709)  \n",
       "\n",
       "[5 rows x 23 columns]"
      ]
     },
     "execution_count": 2,
     "metadata": {},
     "output_type": "execute_result"
    }
   ],
   "source": [
    "data.head()"
   ]
  },
  {
   "cell_type": "code",
   "execution_count": 3,
   "metadata": {},
   "outputs": [
    {
     "name": "stdout",
     "output_type": "stream",
     "text": [
      "<class 'pandas.core.frame.DataFrame'>\n",
      "RangeIndex: 1456714 entries, 0 to 1456713\n",
      "Data columns (total 23 columns):\n",
      "Unnamed: 0              1456714 non-null int64\n",
      "ID                      1456714 non-null int64\n",
      "Case Number             1456713 non-null object\n",
      "Date                    1456714 non-null object\n",
      "Block                   1456714 non-null object\n",
      "IUCR                    1456714 non-null object\n",
      "Primary Type            1456714 non-null object\n",
      "Description             1456714 non-null object\n",
      "Location Description    1455056 non-null object\n",
      "Arrest                  1456714 non-null bool\n",
      "Domestic                1456714 non-null bool\n",
      "Beat                    1456714 non-null int64\n",
      "District                1456713 non-null float64\n",
      "Ward                    1456700 non-null float64\n",
      "Community Area          1456674 non-null float64\n",
      "FBI Code                1456714 non-null object\n",
      "X Coordinate            1419631 non-null float64\n",
      "Y Coordinate            1419631 non-null float64\n",
      "Year                    1456714 non-null int64\n",
      "Updated On              1456714 non-null object\n",
      "Latitude                1419631 non-null float64\n",
      "Longitude               1419631 non-null float64\n",
      "Location                1419631 non-null object\n",
      "dtypes: bool(2), float64(7), int64(4), object(10)\n",
      "memory usage: 236.2+ MB\n"
     ]
    }
   ],
   "source": [
    "data.info()"
   ]
  },
  {
   "cell_type": "code",
   "execution_count": 4,
   "metadata": {},
   "outputs": [
    {
     "data": {
      "text/html": [
       "<div>\n",
       "<style scoped>\n",
       "    .dataframe tbody tr th:only-of-type {\n",
       "        vertical-align: middle;\n",
       "    }\n",
       "\n",
       "    .dataframe tbody tr th {\n",
       "        vertical-align: top;\n",
       "    }\n",
       "\n",
       "    .dataframe thead th {\n",
       "        text-align: right;\n",
       "    }\n",
       "</style>\n",
       "<table border=\"1\" class=\"dataframe\">\n",
       "  <thead>\n",
       "    <tr style=\"text-align: right;\">\n",
       "      <th></th>\n",
       "      <th>Case Number</th>\n",
       "      <th>Date</th>\n",
       "      <th>Block</th>\n",
       "      <th>IUCR</th>\n",
       "      <th>Primary Type</th>\n",
       "      <th>Description</th>\n",
       "      <th>Location Description</th>\n",
       "      <th>FBI Code</th>\n",
       "      <th>Updated On</th>\n",
       "      <th>Location</th>\n",
       "    </tr>\n",
       "  </thead>\n",
       "  <tbody>\n",
       "    <tr>\n",
       "      <th>0</th>\n",
       "      <td>HZ250496</td>\n",
       "      <td>05/03/2016 11:40:00 PM</td>\n",
       "      <td>013XX S SAWYER AVE</td>\n",
       "      <td>0486</td>\n",
       "      <td>BATTERY</td>\n",
       "      <td>DOMESTIC BATTERY SIMPLE</td>\n",
       "      <td>APARTMENT</td>\n",
       "      <td>08B</td>\n",
       "      <td>05/10/2016 03:56:50 PM</td>\n",
       "      <td>(41.864073157, -87.706818608)</td>\n",
       "    </tr>\n",
       "    <tr>\n",
       "      <th>1</th>\n",
       "      <td>HZ250409</td>\n",
       "      <td>05/03/2016 09:40:00 PM</td>\n",
       "      <td>061XX S DREXEL AVE</td>\n",
       "      <td>0486</td>\n",
       "      <td>BATTERY</td>\n",
       "      <td>DOMESTIC BATTERY SIMPLE</td>\n",
       "      <td>RESIDENCE</td>\n",
       "      <td>08B</td>\n",
       "      <td>05/10/2016 03:56:50 PM</td>\n",
       "      <td>(41.782921527, -87.60436317)</td>\n",
       "    </tr>\n",
       "    <tr>\n",
       "      <th>2</th>\n",
       "      <td>HZ250503</td>\n",
       "      <td>05/03/2016 11:31:00 PM</td>\n",
       "      <td>053XX W CHICAGO AVE</td>\n",
       "      <td>0470</td>\n",
       "      <td>PUBLIC PEACE VIOLATION</td>\n",
       "      <td>RECKLESS CONDUCT</td>\n",
       "      <td>STREET</td>\n",
       "      <td>24</td>\n",
       "      <td>05/10/2016 03:56:50 PM</td>\n",
       "      <td>(41.894908283, -87.758371958)</td>\n",
       "    </tr>\n",
       "    <tr>\n",
       "      <th>3</th>\n",
       "      <td>HZ250424</td>\n",
       "      <td>05/03/2016 10:10:00 PM</td>\n",
       "      <td>049XX W FULTON ST</td>\n",
       "      <td>0460</td>\n",
       "      <td>BATTERY</td>\n",
       "      <td>SIMPLE</td>\n",
       "      <td>SIDEWALK</td>\n",
       "      <td>08B</td>\n",
       "      <td>05/10/2016 03:56:50 PM</td>\n",
       "      <td>(41.885686845, -87.749515983)</td>\n",
       "    </tr>\n",
       "    <tr>\n",
       "      <th>4</th>\n",
       "      <td>HZ250455</td>\n",
       "      <td>05/03/2016 10:00:00 PM</td>\n",
       "      <td>003XX N LOTUS AVE</td>\n",
       "      <td>0820</td>\n",
       "      <td>THEFT</td>\n",
       "      <td>$500 AND UNDER</td>\n",
       "      <td>RESIDENCE</td>\n",
       "      <td>06</td>\n",
       "      <td>05/10/2016 03:56:50 PM</td>\n",
       "      <td>(41.886297242, -87.761750709)</td>\n",
       "    </tr>\n",
       "  </tbody>\n",
       "</table>\n",
       "</div>"
      ],
      "text/plain": [
       "  Case Number                    Date                Block  IUCR  \\\n",
       "0    HZ250496  05/03/2016 11:40:00 PM   013XX S SAWYER AVE  0486   \n",
       "1    HZ250409  05/03/2016 09:40:00 PM   061XX S DREXEL AVE  0486   \n",
       "2    HZ250503  05/03/2016 11:31:00 PM  053XX W CHICAGO AVE  0470   \n",
       "3    HZ250424  05/03/2016 10:10:00 PM    049XX W FULTON ST  0460   \n",
       "4    HZ250455  05/03/2016 10:00:00 PM    003XX N LOTUS AVE  0820   \n",
       "\n",
       "             Primary Type              Description Location Description  \\\n",
       "0                 BATTERY  DOMESTIC BATTERY SIMPLE            APARTMENT   \n",
       "1                 BATTERY  DOMESTIC BATTERY SIMPLE            RESIDENCE   \n",
       "2  PUBLIC PEACE VIOLATION         RECKLESS CONDUCT               STREET   \n",
       "3                 BATTERY                   SIMPLE             SIDEWALK   \n",
       "4                   THEFT           $500 AND UNDER            RESIDENCE   \n",
       "\n",
       "  FBI Code              Updated On                       Location  \n",
       "0      08B  05/10/2016 03:56:50 PM  (41.864073157, -87.706818608)  \n",
       "1      08B  05/10/2016 03:56:50 PM   (41.782921527, -87.60436317)  \n",
       "2       24  05/10/2016 03:56:50 PM  (41.894908283, -87.758371958)  \n",
       "3      08B  05/10/2016 03:56:50 PM  (41.885686845, -87.749515983)  \n",
       "4       06  05/10/2016 03:56:50 PM  (41.886297242, -87.761750709)  "
      ]
     },
     "execution_count": 4,
     "metadata": {},
     "output_type": "execute_result"
    }
   ],
   "source": [
    "obj_data = data.select_dtypes(include=['object']).copy()\n",
    "'separate block'\n",
    "obj_data[:5]"
   ]
  },
  {
   "cell_type": "code",
   "execution_count": 5,
   "metadata": {},
   "outputs": [
    {
     "data": {
      "text/plain": [
       "0    41.864073\n",
       "1    41.782922\n",
       "2    41.894908\n",
       "3    41.885687\n",
       "4    41.886297\n",
       "Name: Latitude, dtype: float64"
      ]
     },
     "execution_count": 5,
     "metadata": {},
     "output_type": "execute_result"
    }
   ],
   "source": [
    "data['Latitude'].head()"
   ]
  },
  {
   "cell_type": "code",
   "execution_count": 6,
   "metadata": {},
   "outputs": [],
   "source": [
    "# print(data)\n",
    "# data.dtypes"
   ]
  },
  {
   "cell_type": "markdown",
   "metadata": {},
   "source": [
    "Removing unusable atributtes"
   ]
  },
  {
   "cell_type": "code",
   "execution_count": 7,
   "metadata": {},
   "outputs": [
    {
     "data": {
      "text/plain": [
       "(1456714, 14)"
      ]
     },
     "execution_count": 7,
     "metadata": {},
     "output_type": "execute_result"
    }
   ],
   "source": [
    "data = data.drop(columns = ['Unnamed: 0', 'ID', 'X Coordinate', 'Y Coordinate', \n",
    "                            'Description', 'Location', 'Case Number', 'FBI Code', 'IUCR'])\n",
    "# FBI and IUCR code reflects almost the same as Primary Type\n",
    "data.shape"
   ]
  },
  {
   "cell_type": "code",
   "execution_count": 8,
   "metadata": {},
   "outputs": [
    {
     "name": "stdout",
     "output_type": "stream",
     "text": [
      "(1456714, 14)\n"
     ]
    }
   ],
   "source": [
    "print(data.shape)"
   ]
  },
  {
   "cell_type": "markdown",
   "metadata": {},
   "source": [
    "Removing objects with NaN values:"
   ]
  },
  {
   "cell_type": "code",
   "execution_count": 9,
   "metadata": {},
   "outputs": [
    {
     "name": "stdout",
     "output_type": "stream",
     "text": [
      "20393996\n",
      "19857110\n"
     ]
    }
   ],
   "source": [
    "data = ft.nan_filter(data)\n",
    "# data.isna().sum()"
   ]
  },
  {
   "cell_type": "code",
   "execution_count": 10,
   "metadata": {},
   "outputs": [
    {
     "name": "stdout",
     "output_type": "stream",
     "text": [
      "(1418365, 14)\n"
     ]
    }
   ],
   "source": [
    "print(data.shape)"
   ]
  },
  {
   "cell_type": "code",
   "execution_count": 11,
   "metadata": {},
   "outputs": [
    {
     "data": {
      "text/html": [
       "<div>\n",
       "<style scoped>\n",
       "    .dataframe tbody tr th:only-of-type {\n",
       "        vertical-align: middle;\n",
       "    }\n",
       "\n",
       "    .dataframe tbody tr th {\n",
       "        vertical-align: top;\n",
       "    }\n",
       "\n",
       "    .dataframe thead th {\n",
       "        text-align: right;\n",
       "    }\n",
       "</style>\n",
       "<table border=\"1\" class=\"dataframe\">\n",
       "  <thead>\n",
       "    <tr style=\"text-align: right;\">\n",
       "      <th></th>\n",
       "      <th>Block</th>\n",
       "      <th>Primary Type</th>\n",
       "      <th>Location Description</th>\n",
       "      <th>Arrest</th>\n",
       "      <th>Domestic</th>\n",
       "      <th>Beat</th>\n",
       "      <th>District</th>\n",
       "      <th>Ward</th>\n",
       "      <th>Community Area</th>\n",
       "      <th>Year</th>\n",
       "      <th>Updated On</th>\n",
       "      <th>Latitude</th>\n",
       "      <th>Longitude</th>\n",
       "      <th>Hour</th>\n",
       "      <th>AM/PM</th>\n",
       "      <th>Month</th>\n",
       "      <th>Day</th>\n",
       "      <th>Minute</th>\n",
       "    </tr>\n",
       "  </thead>\n",
       "  <tbody>\n",
       "    <tr>\n",
       "      <th>0</th>\n",
       "      <td>013XX S SAWYER AVE</td>\n",
       "      <td>BATTERY</td>\n",
       "      <td>APARTMENT</td>\n",
       "      <td>True</td>\n",
       "      <td>True</td>\n",
       "      <td>1022</td>\n",
       "      <td>10.0</td>\n",
       "      <td>24.0</td>\n",
       "      <td>29.0</td>\n",
       "      <td>2016</td>\n",
       "      <td>05/10/2016 03:56:50 PM</td>\n",
       "      <td>41.864073</td>\n",
       "      <td>-87.706819</td>\n",
       "      <td>11</td>\n",
       "      <td>PM</td>\n",
       "      <td>05</td>\n",
       "      <td>03</td>\n",
       "      <td>40</td>\n",
       "    </tr>\n",
       "    <tr>\n",
       "      <th>1</th>\n",
       "      <td>061XX S DREXEL AVE</td>\n",
       "      <td>BATTERY</td>\n",
       "      <td>RESIDENCE</td>\n",
       "      <td>False</td>\n",
       "      <td>True</td>\n",
       "      <td>313</td>\n",
       "      <td>3.0</td>\n",
       "      <td>20.0</td>\n",
       "      <td>42.0</td>\n",
       "      <td>2016</td>\n",
       "      <td>05/10/2016 03:56:50 PM</td>\n",
       "      <td>41.782922</td>\n",
       "      <td>-87.604363</td>\n",
       "      <td>09</td>\n",
       "      <td>PM</td>\n",
       "      <td>05</td>\n",
       "      <td>03</td>\n",
       "      <td>40</td>\n",
       "    </tr>\n",
       "    <tr>\n",
       "      <th>2</th>\n",
       "      <td>053XX W CHICAGO AVE</td>\n",
       "      <td>PUBLIC PEACE VIOLATION</td>\n",
       "      <td>STREET</td>\n",
       "      <td>False</td>\n",
       "      <td>False</td>\n",
       "      <td>1524</td>\n",
       "      <td>15.0</td>\n",
       "      <td>37.0</td>\n",
       "      <td>25.0</td>\n",
       "      <td>2016</td>\n",
       "      <td>05/10/2016 03:56:50 PM</td>\n",
       "      <td>41.894908</td>\n",
       "      <td>-87.758372</td>\n",
       "      <td>11</td>\n",
       "      <td>PM</td>\n",
       "      <td>05</td>\n",
       "      <td>03</td>\n",
       "      <td>31</td>\n",
       "    </tr>\n",
       "    <tr>\n",
       "      <th>3</th>\n",
       "      <td>049XX W FULTON ST</td>\n",
       "      <td>BATTERY</td>\n",
       "      <td>SIDEWALK</td>\n",
       "      <td>False</td>\n",
       "      <td>False</td>\n",
       "      <td>1532</td>\n",
       "      <td>15.0</td>\n",
       "      <td>28.0</td>\n",
       "      <td>25.0</td>\n",
       "      <td>2016</td>\n",
       "      <td>05/10/2016 03:56:50 PM</td>\n",
       "      <td>41.885687</td>\n",
       "      <td>-87.749516</td>\n",
       "      <td>10</td>\n",
       "      <td>PM</td>\n",
       "      <td>05</td>\n",
       "      <td>03</td>\n",
       "      <td>10</td>\n",
       "    </tr>\n",
       "    <tr>\n",
       "      <th>4</th>\n",
       "      <td>003XX N LOTUS AVE</td>\n",
       "      <td>THEFT</td>\n",
       "      <td>RESIDENCE</td>\n",
       "      <td>False</td>\n",
       "      <td>True</td>\n",
       "      <td>1523</td>\n",
       "      <td>15.0</td>\n",
       "      <td>28.0</td>\n",
       "      <td>25.0</td>\n",
       "      <td>2016</td>\n",
       "      <td>05/10/2016 03:56:50 PM</td>\n",
       "      <td>41.886297</td>\n",
       "      <td>-87.761751</td>\n",
       "      <td>10</td>\n",
       "      <td>PM</td>\n",
       "      <td>05</td>\n",
       "      <td>03</td>\n",
       "      <td>00</td>\n",
       "    </tr>\n",
       "  </tbody>\n",
       "</table>\n",
       "</div>"
      ],
      "text/plain": [
       "                 Block            Primary Type Location Description  Arrest  \\\n",
       "0   013XX S SAWYER AVE                 BATTERY            APARTMENT    True   \n",
       "1   061XX S DREXEL AVE                 BATTERY            RESIDENCE   False   \n",
       "2  053XX W CHICAGO AVE  PUBLIC PEACE VIOLATION               STREET   False   \n",
       "3    049XX W FULTON ST                 BATTERY             SIDEWALK   False   \n",
       "4    003XX N LOTUS AVE                   THEFT            RESIDENCE   False   \n",
       "\n",
       "   Domestic  Beat  District  Ward  Community Area  Year  \\\n",
       "0      True  1022      10.0  24.0            29.0  2016   \n",
       "1      True   313       3.0  20.0            42.0  2016   \n",
       "2     False  1524      15.0  37.0            25.0  2016   \n",
       "3     False  1532      15.0  28.0            25.0  2016   \n",
       "4      True  1523      15.0  28.0            25.0  2016   \n",
       "\n",
       "               Updated On   Latitude  Longitude Hour AM/PM Month Day Minute  \n",
       "0  05/10/2016 03:56:50 PM  41.864073 -87.706819   11    PM    05  03     40  \n",
       "1  05/10/2016 03:56:50 PM  41.782922 -87.604363   09    PM    05  03     40  \n",
       "2  05/10/2016 03:56:50 PM  41.894908 -87.758372   11    PM    05  03     31  \n",
       "3  05/10/2016 03:56:50 PM  41.885687 -87.749516   10    PM    05  03     10  \n",
       "4  05/10/2016 03:56:50 PM  41.886297 -87.761751   10    PM    05  03     00  "
      ]
     },
     "execution_count": 11,
     "metadata": {},
     "output_type": "execute_result"
    }
   ],
   "source": [
    "data[['Calendar','Hour', 'AM/PM']] = data['Date'].str.split(pat = \" \", expand=True)\n",
    "data[['Month','Day', 'Year']] = data['Calendar'].str.split(pat = \"/\", expand=True)\n",
    "data[['Hour', 'Minute', 'Second']] = data['Hour'].str.split(pat = \":\", expand=True)\n",
    "data = data.drop(columns = ['Date', 'Calendar', 'Second'])\n",
    "data.head()\n",
    "# data = ft.obj_filter(data)"
   ]
  },
  {
   "cell_type": "markdown",
   "metadata": {},
   "source": [
    "Converting some string values to integer:"
   ]
  },
  {
   "cell_type": "code",
   "execution_count": 12,
   "metadata": {},
   "outputs": [],
   "source": [
    "for column in ['Hour', 'Minute', 'Month', 'Day', 'Year']:\n",
    "    data[column] = data[column].apply(lambda x: int(x))"
   ]
  },
  {
   "cell_type": "markdown",
   "metadata": {},
   "source": [
    "Converting some boolean values to integer (True, False) -> (1, 0):"
   ]
  },
  {
   "cell_type": "code",
   "execution_count": 13,
   "metadata": {},
   "outputs": [],
   "source": [
    "data['Arrest'] = data['Arrest'].apply(lambda x: 1 if x else 0)\n",
    "data['Domestic'] = data['Domestic'].apply(lambda x: 1 if x else 0)\n",
    "\n",
    "#converting hour from AM/PM format to 24h format, so we can drop AM/PM column\n",
    "data['Hour'] += np.where(data['AM/PM'] == 'PM', 12, 0)\n",
    "data = data.drop(columns = ['AM/PM'])\n"
   ]
  },
  {
   "cell_type": "code",
   "execution_count": 14,
   "metadata": {},
   "outputs": [
    {
     "data": {
      "text/plain": [
       "<matplotlib.axes._subplots.AxesSubplot at 0x7fce8d53b320>"
      ]
     },
     "execution_count": 14,
     "metadata": {},
     "output_type": "execute_result"
    }
   ],
   "source": [
    "import seaborn as sns\n",
    "sns.distplot(data['Hour'])"
   ]
  },
  {
   "cell_type": "code",
   "execution_count": 15,
   "metadata": {},
   "outputs": [],
   "source": [
    "# data = ft.normalization(data)"
   ]
  },
  {
   "cell_type": "code",
   "execution_count": 16,
   "metadata": {},
   "outputs": [
    {
     "data": {
      "text/html": [
       "<div>\n",
       "<style scoped>\n",
       "    .dataframe tbody tr th:only-of-type {\n",
       "        vertical-align: middle;\n",
       "    }\n",
       "\n",
       "    .dataframe tbody tr th {\n",
       "        vertical-align: top;\n",
       "    }\n",
       "\n",
       "    .dataframe thead th {\n",
       "        text-align: right;\n",
       "    }\n",
       "</style>\n",
       "<table border=\"1\" class=\"dataframe\">\n",
       "  <thead>\n",
       "    <tr style=\"text-align: right;\">\n",
       "      <th></th>\n",
       "      <th>Block</th>\n",
       "      <th>Primary Type</th>\n",
       "      <th>Location Description</th>\n",
       "      <th>Arrest</th>\n",
       "      <th>Domestic</th>\n",
       "      <th>Beat</th>\n",
       "      <th>District</th>\n",
       "      <th>Ward</th>\n",
       "      <th>Community Area</th>\n",
       "      <th>Year</th>\n",
       "      <th>Updated On</th>\n",
       "      <th>Latitude</th>\n",
       "      <th>Longitude</th>\n",
       "      <th>Hour</th>\n",
       "      <th>Month</th>\n",
       "      <th>Day</th>\n",
       "      <th>Minute</th>\n",
       "    </tr>\n",
       "  </thead>\n",
       "  <tbody>\n",
       "    <tr>\n",
       "      <th>0</th>\n",
       "      <td>013XX S SAWYER AVE</td>\n",
       "      <td>BATTERY</td>\n",
       "      <td>APARTMENT</td>\n",
       "      <td>1</td>\n",
       "      <td>1</td>\n",
       "      <td>1022</td>\n",
       "      <td>10.0</td>\n",
       "      <td>24.0</td>\n",
       "      <td>29.0</td>\n",
       "      <td>2016</td>\n",
       "      <td>05/10/2016 03:56:50 PM</td>\n",
       "      <td>41.864073</td>\n",
       "      <td>-87.706819</td>\n",
       "      <td>23</td>\n",
       "      <td>5</td>\n",
       "      <td>3</td>\n",
       "      <td>40</td>\n",
       "    </tr>\n",
       "    <tr>\n",
       "      <th>1</th>\n",
       "      <td>061XX S DREXEL AVE</td>\n",
       "      <td>BATTERY</td>\n",
       "      <td>RESIDENCE</td>\n",
       "      <td>0</td>\n",
       "      <td>1</td>\n",
       "      <td>313</td>\n",
       "      <td>3.0</td>\n",
       "      <td>20.0</td>\n",
       "      <td>42.0</td>\n",
       "      <td>2016</td>\n",
       "      <td>05/10/2016 03:56:50 PM</td>\n",
       "      <td>41.782922</td>\n",
       "      <td>-87.604363</td>\n",
       "      <td>21</td>\n",
       "      <td>5</td>\n",
       "      <td>3</td>\n",
       "      <td>40</td>\n",
       "    </tr>\n",
       "    <tr>\n",
       "      <th>2</th>\n",
       "      <td>053XX W CHICAGO AVE</td>\n",
       "      <td>PUBLIC PEACE VIOLATION</td>\n",
       "      <td>STREET</td>\n",
       "      <td>0</td>\n",
       "      <td>0</td>\n",
       "      <td>1524</td>\n",
       "      <td>15.0</td>\n",
       "      <td>37.0</td>\n",
       "      <td>25.0</td>\n",
       "      <td>2016</td>\n",
       "      <td>05/10/2016 03:56:50 PM</td>\n",
       "      <td>41.894908</td>\n",
       "      <td>-87.758372</td>\n",
       "      <td>23</td>\n",
       "      <td>5</td>\n",
       "      <td>3</td>\n",
       "      <td>31</td>\n",
       "    </tr>\n",
       "    <tr>\n",
       "      <th>3</th>\n",
       "      <td>049XX W FULTON ST</td>\n",
       "      <td>BATTERY</td>\n",
       "      <td>SIDEWALK</td>\n",
       "      <td>0</td>\n",
       "      <td>0</td>\n",
       "      <td>1532</td>\n",
       "      <td>15.0</td>\n",
       "      <td>28.0</td>\n",
       "      <td>25.0</td>\n",
       "      <td>2016</td>\n",
       "      <td>05/10/2016 03:56:50 PM</td>\n",
       "      <td>41.885687</td>\n",
       "      <td>-87.749516</td>\n",
       "      <td>22</td>\n",
       "      <td>5</td>\n",
       "      <td>3</td>\n",
       "      <td>10</td>\n",
       "    </tr>\n",
       "    <tr>\n",
       "      <th>4</th>\n",
       "      <td>003XX N LOTUS AVE</td>\n",
       "      <td>THEFT</td>\n",
       "      <td>RESIDENCE</td>\n",
       "      <td>0</td>\n",
       "      <td>1</td>\n",
       "      <td>1523</td>\n",
       "      <td>15.0</td>\n",
       "      <td>28.0</td>\n",
       "      <td>25.0</td>\n",
       "      <td>2016</td>\n",
       "      <td>05/10/2016 03:56:50 PM</td>\n",
       "      <td>41.886297</td>\n",
       "      <td>-87.761751</td>\n",
       "      <td>22</td>\n",
       "      <td>5</td>\n",
       "      <td>3</td>\n",
       "      <td>0</td>\n",
       "    </tr>\n",
       "  </tbody>\n",
       "</table>\n",
       "</div>"
      ],
      "text/plain": [
       "                 Block            Primary Type Location Description  Arrest  \\\n",
       "0   013XX S SAWYER AVE                 BATTERY            APARTMENT       1   \n",
       "1   061XX S DREXEL AVE                 BATTERY            RESIDENCE       0   \n",
       "2  053XX W CHICAGO AVE  PUBLIC PEACE VIOLATION               STREET       0   \n",
       "3    049XX W FULTON ST                 BATTERY             SIDEWALK       0   \n",
       "4    003XX N LOTUS AVE                   THEFT            RESIDENCE       0   \n",
       "\n",
       "   Domestic  Beat  District  Ward  Community Area  Year  \\\n",
       "0         1  1022      10.0  24.0            29.0  2016   \n",
       "1         1   313       3.0  20.0            42.0  2016   \n",
       "2         0  1524      15.0  37.0            25.0  2016   \n",
       "3         0  1532      15.0  28.0            25.0  2016   \n",
       "4         1  1523      15.0  28.0            25.0  2016   \n",
       "\n",
       "               Updated On   Latitude  Longitude  Hour  Month  Day  Minute  \n",
       "0  05/10/2016 03:56:50 PM  41.864073 -87.706819    23      5    3      40  \n",
       "1  05/10/2016 03:56:50 PM  41.782922 -87.604363    21      5    3      40  \n",
       "2  05/10/2016 03:56:50 PM  41.894908 -87.758372    23      5    3      31  \n",
       "3  05/10/2016 03:56:50 PM  41.885687 -87.749516    22      5    3      10  \n",
       "4  05/10/2016 03:56:50 PM  41.886297 -87.761751    22      5    3       0  "
      ]
     },
     "execution_count": 16,
     "metadata": {},
     "output_type": "execute_result"
    }
   ],
   "source": [
    "data.head()"
   ]
  },
  {
   "cell_type": "markdown",
   "metadata": {},
   "source": [
    "Remaining string values analysis:"
   ]
  },
  {
   "cell_type": "code",
   "execution_count": 17,
   "metadata": {},
   "outputs": [
    {
     "name": "stdout",
     "output_type": "stream",
     "text": [
      "Block unique values: 32546\n",
      "Primary Type unique values: 33\n",
      "Location Description unique values: 140\n",
      "Updated On unique values: 950\n"
     ]
    }
   ],
   "source": [
    "for column in data.columns:\n",
    "    if data[column].dtype == 'object':\n",
    "        print(column+' unique values:', len(data[column].unique()))"
   ]
  },
  {
   "cell_type": "code",
   "execution_count": 18,
   "metadata": {},
   "outputs": [
    {
     "data": {
      "text/plain": [
       "array(['BATTERY', 'PUBLIC PEACE VIOLATION', 'THEFT', 'WEAPONS VIOLATION',\n",
       "       'ROBBERY', 'MOTOR VEHICLE THEFT', 'ASSAULT', 'OTHER OFFENSE',\n",
       "       'DECEPTIVE PRACTICE', 'CRIMINAL DAMAGE', 'CRIMINAL TRESPASS',\n",
       "       'BURGLARY', 'STALKING', 'CRIM SEXUAL ASSAULT', 'NARCOTICS',\n",
       "       'SEX OFFENSE', 'HOMICIDE', 'OFFENSE INVOLVING CHILDREN',\n",
       "       'INTERFERENCE WITH PUBLIC OFFICER', 'PROSTITUTION', 'KIDNAPPING',\n",
       "       'GAMBLING', 'INTIMIDATION', 'ARSON', 'LIQUOR LAW VIOLATION',\n",
       "       'OBSCENITY', 'NON-CRIMINAL', 'PUBLIC INDECENCY',\n",
       "       'HUMAN TRAFFICKING', 'CONCEALED CARRY LICENSE VIOLATION',\n",
       "       'NON - CRIMINAL', 'OTHER NARCOTIC VIOLATION',\n",
       "       'NON-CRIMINAL (SUBJECT SPECIFIED)'], dtype=object)"
      ]
     },
     "execution_count": 18,
     "metadata": {},
     "output_type": "execute_result"
    }
   ],
   "source": [
    "data['Primary Type'].unique() # Maybe we should one-hot encode this varible..."
   ]
  },
  {
   "cell_type": "code",
   "execution_count": 19,
   "metadata": {},
   "outputs": [],
   "source": [
    " #data['Location Description'].value_counts()  # maybe assign all small values to \"other\""
   ]
  },
  {
   "cell_type": "code",
   "execution_count": 20,
   "metadata": {},
   "outputs": [
    {
     "data": {
      "text/plain": [
       "0     013XX S SAWYER AVE\n",
       "1     061XX S DREXEL AVE\n",
       "2    053XX W CHICAGO AVE\n",
       "3      049XX W FULTON ST\n",
       "4      003XX N LOTUS AVE\n",
       "Name: Block, dtype: object"
      ]
     },
     "execution_count": 20,
     "metadata": {},
     "output_type": "execute_result"
    }
   ],
   "source": [
    "data['Block'].head()"
   ]
  },
  {
   "cell_type": "code",
   "execution_count": 21,
   "metadata": {},
   "outputs": [],
   "source": [
    "# data.info()"
   ]
  },
  {
   "cell_type": "markdown",
   "metadata": {},
   "source": [
    "Dropping remaining attributes"
   ]
  },
  {
   "cell_type": "code",
   "execution_count": 22,
   "metadata": {},
   "outputs": [],
   "source": [
    "data = data.drop(columns = ['Block', 'Location Description', 'Updated On', 'Minute'])"
   ]
  },
  {
   "cell_type": "markdown",
   "metadata": {},
   "source": [
    "Removing latitude outliers:"
   ]
  },
  {
   "cell_type": "code",
   "execution_count": 23,
   "metadata": {},
   "outputs": [
    {
     "data": {
      "text/plain": [
       "(74, 13)"
      ]
     },
     "execution_count": 23,
     "metadata": {},
     "output_type": "execute_result"
    }
   ],
   "source": [
    "np.shape(data[data['Latitude'] < 40])"
   ]
  },
  {
   "cell_type": "code",
   "execution_count": 24,
   "metadata": {},
   "outputs": [
    {
     "data": {
      "text/html": [
       "<div>\n",
       "<style scoped>\n",
       "    .dataframe tbody tr th:only-of-type {\n",
       "        vertical-align: middle;\n",
       "    }\n",
       "\n",
       "    .dataframe tbody tr th {\n",
       "        vertical-align: top;\n",
       "    }\n",
       "\n",
       "    .dataframe thead th {\n",
       "        text-align: right;\n",
       "    }\n",
       "</style>\n",
       "<table border=\"1\" class=\"dataframe\">\n",
       "  <thead>\n",
       "    <tr style=\"text-align: right;\">\n",
       "      <th></th>\n",
       "      <th>Arrest</th>\n",
       "      <th>Domestic</th>\n",
       "      <th>Beat</th>\n",
       "      <th>District</th>\n",
       "      <th>Ward</th>\n",
       "      <th>Community Area</th>\n",
       "      <th>Year</th>\n",
       "      <th>Latitude</th>\n",
       "      <th>Longitude</th>\n",
       "      <th>Hour</th>\n",
       "      <th>Month</th>\n",
       "      <th>Day</th>\n",
       "    </tr>\n",
       "  </thead>\n",
       "  <tbody>\n",
       "    <tr>\n",
       "      <th>count</th>\n",
       "      <td>1.418365e+06</td>\n",
       "      <td>1.418365e+06</td>\n",
       "      <td>1.418365e+06</td>\n",
       "      <td>1.418365e+06</td>\n",
       "      <td>1.418365e+06</td>\n",
       "      <td>1.418365e+06</td>\n",
       "      <td>1.418365e+06</td>\n",
       "      <td>1.418365e+06</td>\n",
       "      <td>1.418365e+06</td>\n",
       "      <td>1.418365e+06</td>\n",
       "      <td>1.418365e+06</td>\n",
       "      <td>1.418365e+06</td>\n",
       "    </tr>\n",
       "    <tr>\n",
       "      <th>mean</th>\n",
       "      <td>2.616090e-01</td>\n",
       "      <td>1.516775e-01</td>\n",
       "      <td>1.150282e+03</td>\n",
       "      <td>1.125518e+01</td>\n",
       "      <td>2.285474e+01</td>\n",
       "      <td>3.747455e+01</td>\n",
       "      <td>2.013851e+03</td>\n",
       "      <td>4.184144e+01</td>\n",
       "      <td>-8.767223e+01</td>\n",
       "      <td>1.448911e+01</td>\n",
       "      <td>6.558481e+00</td>\n",
       "      <td>1.567706e+01</td>\n",
       "    </tr>\n",
       "    <tr>\n",
       "      <th>std</th>\n",
       "      <td>4.395109e-01</td>\n",
       "      <td>3.587081e-01</td>\n",
       "      <td>6.916395e+02</td>\n",
       "      <td>6.904508e+00</td>\n",
       "      <td>1.379378e+01</td>\n",
       "      <td>2.142995e+01</td>\n",
       "      <td>1.423228e+00</td>\n",
       "      <td>9.399956e-02</td>\n",
       "      <td>6.637181e-02</td>\n",
       "      <td>6.335705e+00</td>\n",
       "      <td>3.331287e+00</td>\n",
       "      <td>8.832100e+00</td>\n",
       "    </tr>\n",
       "    <tr>\n",
       "      <th>min</th>\n",
       "      <td>0.000000e+00</td>\n",
       "      <td>0.000000e+00</td>\n",
       "      <td>1.110000e+02</td>\n",
       "      <td>1.000000e+00</td>\n",
       "      <td>1.000000e+00</td>\n",
       "      <td>0.000000e+00</td>\n",
       "      <td>2.012000e+03</td>\n",
       "      <td>3.661945e+01</td>\n",
       "      <td>-9.168657e+01</td>\n",
       "      <td>1.000000e+00</td>\n",
       "      <td>1.000000e+00</td>\n",
       "      <td>1.000000e+00</td>\n",
       "    </tr>\n",
       "    <tr>\n",
       "      <th>25%</th>\n",
       "      <td>0.000000e+00</td>\n",
       "      <td>0.000000e+00</td>\n",
       "      <td>6.130000e+02</td>\n",
       "      <td>6.000000e+00</td>\n",
       "      <td>1.000000e+01</td>\n",
       "      <td>2.300000e+01</td>\n",
       "      <td>2.013000e+03</td>\n",
       "      <td>4.176784e+01</td>\n",
       "      <td>-8.771529e+01</td>\n",
       "      <td>1.000000e+01</td>\n",
       "      <td>4.000000e+00</td>\n",
       "      <td>8.000000e+00</td>\n",
       "    </tr>\n",
       "    <tr>\n",
       "      <th>50%</th>\n",
       "      <td>0.000000e+00</td>\n",
       "      <td>0.000000e+00</td>\n",
       "      <td>1.024000e+03</td>\n",
       "      <td>1.000000e+01</td>\n",
       "      <td>2.300000e+01</td>\n",
       "      <td>3.200000e+01</td>\n",
       "      <td>2.014000e+03</td>\n",
       "      <td>4.185787e+01</td>\n",
       "      <td>-8.766614e+01</td>\n",
       "      <td>1.500000e+01</td>\n",
       "      <td>7.000000e+00</td>\n",
       "      <td>1.600000e+01</td>\n",
       "    </tr>\n",
       "    <tr>\n",
       "      <th>75%</th>\n",
       "      <td>1.000000e+00</td>\n",
       "      <td>0.000000e+00</td>\n",
       "      <td>1.711000e+03</td>\n",
       "      <td>1.700000e+01</td>\n",
       "      <td>3.400000e+01</td>\n",
       "      <td>5.700000e+01</td>\n",
       "      <td>2.015000e+03</td>\n",
       "      <td>4.190524e+01</td>\n",
       "      <td>-8.762812e+01</td>\n",
       "      <td>2.000000e+01</td>\n",
       "      <td>9.000000e+00</td>\n",
       "      <td>2.300000e+01</td>\n",
       "    </tr>\n",
       "    <tr>\n",
       "      <th>max</th>\n",
       "      <td>1.000000e+00</td>\n",
       "      <td>1.000000e+00</td>\n",
       "      <td>2.535000e+03</td>\n",
       "      <td>3.100000e+01</td>\n",
       "      <td>5.000000e+01</td>\n",
       "      <td>7.700000e+01</td>\n",
       "      <td>2.017000e+03</td>\n",
       "      <td>4.202271e+01</td>\n",
       "      <td>-8.752453e+01</td>\n",
       "      <td>2.400000e+01</td>\n",
       "      <td>1.200000e+01</td>\n",
       "      <td>3.100000e+01</td>\n",
       "    </tr>\n",
       "  </tbody>\n",
       "</table>\n",
       "</div>"
      ],
      "text/plain": [
       "             Arrest      Domestic          Beat      District          Ward  \\\n",
       "count  1.418365e+06  1.418365e+06  1.418365e+06  1.418365e+06  1.418365e+06   \n",
       "mean   2.616090e-01  1.516775e-01  1.150282e+03  1.125518e+01  2.285474e+01   \n",
       "std    4.395109e-01  3.587081e-01  6.916395e+02  6.904508e+00  1.379378e+01   \n",
       "min    0.000000e+00  0.000000e+00  1.110000e+02  1.000000e+00  1.000000e+00   \n",
       "25%    0.000000e+00  0.000000e+00  6.130000e+02  6.000000e+00  1.000000e+01   \n",
       "50%    0.000000e+00  0.000000e+00  1.024000e+03  1.000000e+01  2.300000e+01   \n",
       "75%    1.000000e+00  0.000000e+00  1.711000e+03  1.700000e+01  3.400000e+01   \n",
       "max    1.000000e+00  1.000000e+00  2.535000e+03  3.100000e+01  5.000000e+01   \n",
       "\n",
       "       Community Area          Year      Latitude     Longitude          Hour  \\\n",
       "count    1.418365e+06  1.418365e+06  1.418365e+06  1.418365e+06  1.418365e+06   \n",
       "mean     3.747455e+01  2.013851e+03  4.184144e+01 -8.767223e+01  1.448911e+01   \n",
       "std      2.142995e+01  1.423228e+00  9.399956e-02  6.637181e-02  6.335705e+00   \n",
       "min      0.000000e+00  2.012000e+03  3.661945e+01 -9.168657e+01  1.000000e+00   \n",
       "25%      2.300000e+01  2.013000e+03  4.176784e+01 -8.771529e+01  1.000000e+01   \n",
       "50%      3.200000e+01  2.014000e+03  4.185787e+01 -8.766614e+01  1.500000e+01   \n",
       "75%      5.700000e+01  2.015000e+03  4.190524e+01 -8.762812e+01  2.000000e+01   \n",
       "max      7.700000e+01  2.017000e+03  4.202271e+01 -8.752453e+01  2.400000e+01   \n",
       "\n",
       "              Month           Day  \n",
       "count  1.418365e+06  1.418365e+06  \n",
       "mean   6.558481e+00  1.567706e+01  \n",
       "std    3.331287e+00  8.832100e+00  \n",
       "min    1.000000e+00  1.000000e+00  \n",
       "25%    4.000000e+00  8.000000e+00  \n",
       "50%    7.000000e+00  1.600000e+01  \n",
       "75%    9.000000e+00  2.300000e+01  \n",
       "max    1.200000e+01  3.100000e+01  "
      ]
     },
     "execution_count": 24,
     "metadata": {},
     "output_type": "execute_result"
    }
   ],
   "source": [
    "data.describe()"
   ]
  },
  {
   "cell_type": "code",
   "execution_count": 25,
   "metadata": {},
   "outputs": [
    {
     "data": {
      "text/plain": [
       "(1418291, 13)"
      ]
     },
     "execution_count": 25,
     "metadata": {},
     "output_type": "execute_result"
    }
   ],
   "source": [
    "data = data.drop(data[(data['Latitude'] < 40)].index)\n",
    "np.shape(data)"
   ]
  },
  {
   "cell_type": "code",
   "execution_count": 26,
   "metadata": {},
   "outputs": [
    {
     "data": {
      "text/html": [
       "<div>\n",
       "<style scoped>\n",
       "    .dataframe tbody tr th:only-of-type {\n",
       "        vertical-align: middle;\n",
       "    }\n",
       "\n",
       "    .dataframe tbody tr th {\n",
       "        vertical-align: top;\n",
       "    }\n",
       "\n",
       "    .dataframe thead th {\n",
       "        text-align: right;\n",
       "    }\n",
       "</style>\n",
       "<table border=\"1\" class=\"dataframe\">\n",
       "  <thead>\n",
       "    <tr style=\"text-align: right;\">\n",
       "      <th></th>\n",
       "      <th>Primary Type</th>\n",
       "      <th>Arrest</th>\n",
       "      <th>Domestic</th>\n",
       "    </tr>\n",
       "  </thead>\n",
       "  <tbody>\n",
       "    <tr>\n",
       "      <th>0</th>\n",
       "      <td>BATTERY</td>\n",
       "      <td>1</td>\n",
       "      <td>1</td>\n",
       "    </tr>\n",
       "    <tr>\n",
       "      <th>1</th>\n",
       "      <td>BATTERY</td>\n",
       "      <td>0</td>\n",
       "      <td>1</td>\n",
       "    </tr>\n",
       "    <tr>\n",
       "      <th>2</th>\n",
       "      <td>PUBLIC PEACE VIOLATION</td>\n",
       "      <td>0</td>\n",
       "      <td>0</td>\n",
       "    </tr>\n",
       "    <tr>\n",
       "      <th>3</th>\n",
       "      <td>BATTERY</td>\n",
       "      <td>0</td>\n",
       "      <td>0</td>\n",
       "    </tr>\n",
       "    <tr>\n",
       "      <th>4</th>\n",
       "      <td>THEFT</td>\n",
       "      <td>0</td>\n",
       "      <td>1</td>\n",
       "    </tr>\n",
       "  </tbody>\n",
       "</table>\n",
       "</div>"
      ],
      "text/plain": [
       "             Primary Type Arrest Domestic\n",
       "0                 BATTERY      1        1\n",
       "1                 BATTERY      0        1\n",
       "2  PUBLIC PEACE VIOLATION      0        0\n",
       "3                 BATTERY      0        0\n",
       "4                   THEFT      0        1"
      ]
     },
     "execution_count": 26,
     "metadata": {},
     "output_type": "execute_result"
    }
   ],
   "source": [
    "data2, data = np.split(data, [3], axis=1)\n",
    "data2.head()"
   ]
  },
  {
   "cell_type": "code",
   "execution_count": 27,
   "metadata": {},
   "outputs": [],
   "source": [
    "# dummy = pd.get_dummies(data['Primary Type'])\n",
    "# data  = pd.concat([data, dummy], axis=1)\n",
    "# data = data.drop(columns = ['Primary Type'])\n",
    "# data.shape"
   ]
  },
  {
   "cell_type": "code",
   "execution_count": 28,
   "metadata": {},
   "outputs": [
    {
     "data": {
      "text/html": [
       "<div>\n",
       "<style scoped>\n",
       "    .dataframe tbody tr th:only-of-type {\n",
       "        vertical-align: middle;\n",
       "    }\n",
       "\n",
       "    .dataframe tbody tr th {\n",
       "        vertical-align: top;\n",
       "    }\n",
       "\n",
       "    .dataframe thead th {\n",
       "        text-align: right;\n",
       "    }\n",
       "</style>\n",
       "<table border=\"1\" class=\"dataframe\">\n",
       "  <thead>\n",
       "    <tr style=\"text-align: right;\">\n",
       "      <th></th>\n",
       "      <th>Beat</th>\n",
       "      <th>District</th>\n",
       "      <th>Ward</th>\n",
       "      <th>Community Area</th>\n",
       "      <th>Year</th>\n",
       "      <th>Latitude</th>\n",
       "      <th>Longitude</th>\n",
       "      <th>Hour</th>\n",
       "      <th>Month</th>\n",
       "      <th>Day</th>\n",
       "    </tr>\n",
       "  </thead>\n",
       "  <tbody>\n",
       "    <tr>\n",
       "      <th>0</th>\n",
       "      <td>1022</td>\n",
       "      <td>10</td>\n",
       "      <td>24</td>\n",
       "      <td>29</td>\n",
       "      <td>2016</td>\n",
       "      <td>41.8641</td>\n",
       "      <td>-87.7068</td>\n",
       "      <td>23</td>\n",
       "      <td>5</td>\n",
       "      <td>3</td>\n",
       "    </tr>\n",
       "    <tr>\n",
       "      <th>1</th>\n",
       "      <td>313</td>\n",
       "      <td>3</td>\n",
       "      <td>20</td>\n",
       "      <td>42</td>\n",
       "      <td>2016</td>\n",
       "      <td>41.7829</td>\n",
       "      <td>-87.6044</td>\n",
       "      <td>21</td>\n",
       "      <td>5</td>\n",
       "      <td>3</td>\n",
       "    </tr>\n",
       "    <tr>\n",
       "      <th>2</th>\n",
       "      <td>1524</td>\n",
       "      <td>15</td>\n",
       "      <td>37</td>\n",
       "      <td>25</td>\n",
       "      <td>2016</td>\n",
       "      <td>41.8949</td>\n",
       "      <td>-87.7584</td>\n",
       "      <td>23</td>\n",
       "      <td>5</td>\n",
       "      <td>3</td>\n",
       "    </tr>\n",
       "    <tr>\n",
       "      <th>3</th>\n",
       "      <td>1532</td>\n",
       "      <td>15</td>\n",
       "      <td>28</td>\n",
       "      <td>25</td>\n",
       "      <td>2016</td>\n",
       "      <td>41.8857</td>\n",
       "      <td>-87.7495</td>\n",
       "      <td>22</td>\n",
       "      <td>5</td>\n",
       "      <td>3</td>\n",
       "    </tr>\n",
       "    <tr>\n",
       "      <th>4</th>\n",
       "      <td>1523</td>\n",
       "      <td>15</td>\n",
       "      <td>28</td>\n",
       "      <td>25</td>\n",
       "      <td>2016</td>\n",
       "      <td>41.8863</td>\n",
       "      <td>-87.7618</td>\n",
       "      <td>22</td>\n",
       "      <td>5</td>\n",
       "      <td>3</td>\n",
       "    </tr>\n",
       "  </tbody>\n",
       "</table>\n",
       "</div>"
      ],
      "text/plain": [
       "   Beat District Ward Community Area  Year Latitude Longitude Hour Month Day\n",
       "0  1022       10   24             29  2016  41.8641  -87.7068   23     5   3\n",
       "1   313        3   20             42  2016  41.7829  -87.6044   21     5   3\n",
       "2  1524       15   37             25  2016  41.8949  -87.7584   23     5   3\n",
       "3  1532       15   28             25  2016  41.8857  -87.7495   22     5   3\n",
       "4  1523       15   28             25  2016  41.8863  -87.7618   22     5   3"
      ]
     },
     "execution_count": 28,
     "metadata": {},
     "output_type": "execute_result"
    }
   ],
   "source": [
    "data.head()"
   ]
  },
  {
   "cell_type": "code",
   "execution_count": 29,
   "metadata": {},
   "outputs": [
    {
     "data": {
      "text/plain": [
       "KMeans(algorithm='auto', copy_x=True, init='k-means++', max_iter=300,\n",
       "    n_clusters=5, n_init=10, n_jobs=None, precompute_distances='auto',\n",
       "    random_state=None, tol=0.0001, verbose=0)"
      ]
     },
     "execution_count": 29,
     "metadata": {},
     "output_type": "execute_result"
    }
   ],
   "source": [
    "from mpl_toolkits.mplot3d import Axes3D\n",
    "from sklearn.cluster import KMeans\n",
    "\n",
    "kmeans = KMeans(n_clusters=5, verbose=0)\n",
    "kmeans.fit(data)"
   ]
  },
  {
   "cell_type": "code",
   "execution_count": 30,
   "metadata": {},
   "outputs": [
    {
     "data": {
      "text/plain": [
       "(5, 10)"
      ]
     },
     "execution_count": 30,
     "metadata": {},
     "output_type": "execute_result"
    }
   ],
   "source": [
    "np.shape(kmeans.cluster_centers_)"
   ]
  },
  {
   "cell_type": "code",
   "execution_count": 31,
   "metadata": {},
   "outputs": [],
   "source": [
    "centers = kmeans.cluster_centers_\n",
    "# centers"
   ]
  },
  {
   "cell_type": "code",
   "execution_count": 32,
   "metadata": {},
   "outputs": [
    {
     "data": {
      "text/plain": [
       "(1418291,)"
      ]
     },
     "execution_count": 32,
     "metadata": {},
     "output_type": "execute_result"
    }
   ],
   "source": [
    "np.shape(kmeans.labels_)"
   ]
  },
  {
   "cell_type": "code",
   "execution_count": 33,
   "metadata": {},
   "outputs": [
    {
     "data": {
      "text/plain": [
       "\"\\nax = Axes3D(fig, rect=[0, 0, 1, 1])\\n\\n# lat, long and year\\nax.scatter(data['Hour'], data['Latitude'], data['Longitude'], \\n           c=labels.astype(np.float), edgecolor='k')\\n\\n#ax.w_xaxis.set_ticklabels([])\\n#ax.w_yaxis.set_ticklabels([])\\n#ax.w_zaxis.set_ticklabels([])\\n\\nax.set_xlabel('Hour')\\nax.set_ylabel('Lat')\\nax.set_zlabel('Long')\\nax.dist = 12\""
      ]
     },
     "execution_count": 33,
     "metadata": {},
     "output_type": "execute_result"
    },
    {
     "data": {
      "text/plain": [
       "<Figure size 576x576 with 0 Axes>"
      ]
     },
     "metadata": {},
     "output_type": "display_data"
    }
   ],
   "source": [
    "import matplotlib.pyplot as plt\n",
    "\n",
    "fig = plt.figure(figsize=(8, 8))\n",
    "labels = kmeans.labels_\n",
    "\n",
    "'''\n",
    "ax = Axes3D(fig, rect=[0, 0, 1, 1])\n",
    "\n",
    "# lat, long and year\n",
    "ax.scatter(data['Hour'], data['Latitude'], data['Longitude'], \n",
    "           c=labels.astype(np.float), edgecolor='k')\n",
    "\n",
    "#ax.w_xaxis.set_ticklabels([])\n",
    "#ax.w_yaxis.set_ticklabels([])\n",
    "#ax.w_zaxis.set_ticklabels([])\n",
    "\n",
    "ax.set_xlabel('Hour')\n",
    "ax.set_ylabel('Lat')\n",
    "ax.set_zlabel('Long')\n",
    "ax.dist = 12'''\n"
   ]
  },
  {
   "cell_type": "code",
   "execution_count": 34,
   "metadata": {},
   "outputs": [
    {
     "data": {
      "image/png": "[encoded data removed]",
      "text/plain": [
       "<Figure size 432x288 with 1 Axes>"
      ]
     },
     "metadata": {},
     "output_type": "display_data"
    }
   ],
   "source": [
    "plt.scatter(data['Longitude'], data['Latitude'], c=labels.astype(np.float))\n",
    "# plt.scatter()\n",
    "plt.show()"
   ]
  },
  {
   "cell_type": "code",
   "execution_count": 35,
   "metadata": {},
   "outputs": [
    {
     "data": {
      "text/plain": [
       "(1418291, array([4, 3, 1, ..., 0, 3, 3], dtype=int32))"
      ]
     },
     "execution_count": 35,
     "metadata": {},
     "output_type": "execute_result"
    }
   ],
   "source": [
    "(len(labels), labels)"
   ]
  },
  {
   "cell_type": "code",
   "execution_count": 36,
   "metadata": {},
   "outputs": [
    {
     "data": {
      "text/html": [
       "<div>\n",
       "<style scoped>\n",
       "    .dataframe tbody tr th:only-of-type {\n",
       "        vertical-align: middle;\n",
       "    }\n",
       "\n",
       "    .dataframe tbody tr th {\n",
       "        vertical-align: top;\n",
       "    }\n",
       "\n",
       "    .dataframe thead th {\n",
       "        text-align: right;\n",
       "    }\n",
       "</style>\n",
       "<table border=\"1\" class=\"dataframe\">\n",
       "  <thead>\n",
       "    <tr style=\"text-align: right;\">\n",
       "      <th></th>\n",
       "      <th>Cluster</th>\n",
       "    </tr>\n",
       "  </thead>\n",
       "  <tbody>\n",
       "    <tr>\n",
       "      <th>0</th>\n",
       "      <td>4</td>\n",
       "    </tr>\n",
       "    <tr>\n",
       "      <th>1</th>\n",
       "      <td>3</td>\n",
       "    </tr>\n",
       "    <tr>\n",
       "      <th>2</th>\n",
       "      <td>1</td>\n",
       "    </tr>\n",
       "    <tr>\n",
       "      <th>3</th>\n",
       "      <td>1</td>\n",
       "    </tr>\n",
       "    <tr>\n",
       "      <th>4</th>\n",
       "      <td>1</td>\n",
       "    </tr>\n",
       "  </tbody>\n",
       "</table>\n",
       "</div>"
      ],
      "text/plain": [
       "   Cluster\n",
       "0        4\n",
       "1        3\n",
       "2        1\n",
       "3        1\n",
       "4        1"
      ]
     },
     "execution_count": 36,
     "metadata": {},
     "output_type": "execute_result"
    }
   ],
   "source": [
    "clusters = pd.DataFrame(labels, columns=['Cluster'])\n",
    "clusters.head()"
   ]
  },
  {
   "cell_type": "code",
   "execution_count": 37,
   "metadata": {},
   "outputs": [],
   "source": [
    "data = pd.concat([data, data2, clusters], axis=1)"
   ]
  },
  {
   "cell_type": "code",
   "execution_count": 38,
   "metadata": {},
   "outputs": [
    {
     "data": {
      "text/html": [
       "<div>\n",
       "<style scoped>\n",
       "    .dataframe tbody tr th:only-of-type {\n",
       "        vertical-align: middle;\n",
       "    }\n",
       "\n",
       "    .dataframe tbody tr th {\n",
       "        vertical-align: top;\n",
       "    }\n",
       "\n",
       "    .dataframe thead th {\n",
       "        text-align: right;\n",
       "    }\n",
       "</style>\n",
       "<table border=\"1\" class=\"dataframe\">\n",
       "  <thead>\n",
       "    <tr style=\"text-align: right;\">\n",
       "      <th></th>\n",
       "      <th>Beat</th>\n",
       "      <th>District</th>\n",
       "      <th>Ward</th>\n",
       "      <th>Community Area</th>\n",
       "      <th>Year</th>\n",
       "      <th>Latitude</th>\n",
       "      <th>Longitude</th>\n",
       "      <th>Hour</th>\n",
       "      <th>Month</th>\n",
       "      <th>Day</th>\n",
       "      <th>Primary Type</th>\n",
       "      <th>Arrest</th>\n",
       "      <th>Domestic</th>\n",
       "      <th>Cluster</th>\n",
       "    </tr>\n",
       "  </thead>\n",
       "  <tbody>\n",
       "    <tr>\n",
       "      <th>0</th>\n",
       "      <td>1022</td>\n",
       "      <td>10</td>\n",
       "      <td>24</td>\n",
       "      <td>29</td>\n",
       "      <td>2016</td>\n",
       "      <td>41.8641</td>\n",
       "      <td>-87.7068</td>\n",
       "      <td>23</td>\n",
       "      <td>5</td>\n",
       "      <td>3</td>\n",
       "      <td>BATTERY</td>\n",
       "      <td>1</td>\n",
       "      <td>1</td>\n",
       "      <td>4.0</td>\n",
       "    </tr>\n",
       "    <tr>\n",
       "      <th>1</th>\n",
       "      <td>313</td>\n",
       "      <td>3</td>\n",
       "      <td>20</td>\n",
       "      <td>42</td>\n",
       "      <td>2016</td>\n",
       "      <td>41.7829</td>\n",
       "      <td>-87.6044</td>\n",
       "      <td>21</td>\n",
       "      <td>5</td>\n",
       "      <td>3</td>\n",
       "      <td>BATTERY</td>\n",
       "      <td>0</td>\n",
       "      <td>1</td>\n",
       "      <td>3.0</td>\n",
       "    </tr>\n",
       "    <tr>\n",
       "      <th>2</th>\n",
       "      <td>1524</td>\n",
       "      <td>15</td>\n",
       "      <td>37</td>\n",
       "      <td>25</td>\n",
       "      <td>2016</td>\n",
       "      <td>41.8949</td>\n",
       "      <td>-87.7584</td>\n",
       "      <td>23</td>\n",
       "      <td>5</td>\n",
       "      <td>3</td>\n",
       "      <td>PUBLIC PEACE VIOLATION</td>\n",
       "      <td>0</td>\n",
       "      <td>0</td>\n",
       "      <td>1.0</td>\n",
       "    </tr>\n",
       "    <tr>\n",
       "      <th>3</th>\n",
       "      <td>1532</td>\n",
       "      <td>15</td>\n",
       "      <td>28</td>\n",
       "      <td>25</td>\n",
       "      <td>2016</td>\n",
       "      <td>41.8857</td>\n",
       "      <td>-87.7495</td>\n",
       "      <td>22</td>\n",
       "      <td>5</td>\n",
       "      <td>3</td>\n",
       "      <td>BATTERY</td>\n",
       "      <td>0</td>\n",
       "      <td>0</td>\n",
       "      <td>1.0</td>\n",
       "    </tr>\n",
       "    <tr>\n",
       "      <th>4</th>\n",
       "      <td>1523</td>\n",
       "      <td>15</td>\n",
       "      <td>28</td>\n",
       "      <td>25</td>\n",
       "      <td>2016</td>\n",
       "      <td>41.8863</td>\n",
       "      <td>-87.7618</td>\n",
       "      <td>22</td>\n",
       "      <td>5</td>\n",
       "      <td>3</td>\n",
       "      <td>THEFT</td>\n",
       "      <td>0</td>\n",
       "      <td>1</td>\n",
       "      <td>1.0</td>\n",
       "    </tr>\n",
       "  </tbody>\n",
       "</table>\n",
       "</div>"
      ],
      "text/plain": [
       "   Beat District Ward Community Area  Year Latitude Longitude Hour Month Day  \\\n",
       "0  1022       10   24             29  2016  41.8641  -87.7068   23     5   3   \n",
       "1   313        3   20             42  2016  41.7829  -87.6044   21     5   3   \n",
       "2  1524       15   37             25  2016  41.8949  -87.7584   23     5   3   \n",
       "3  1532       15   28             25  2016  41.8857  -87.7495   22     5   3   \n",
       "4  1523       15   28             25  2016  41.8863  -87.7618   22     5   3   \n",
       "\n",
       "             Primary Type Arrest Domestic  Cluster  \n",
       "0                 BATTERY      1        1      4.0  \n",
       "1                 BATTERY      0        1      3.0  \n",
       "2  PUBLIC PEACE VIOLATION      0        0      1.0  \n",
       "3                 BATTERY      0        0      1.0  \n",
       "4                   THEFT      0        1      1.0  "
      ]
     },
     "execution_count": 38,
     "metadata": {},
     "output_type": "execute_result"
    }
   ],
   "source": [
    "data.head()"
   ]
  },
  {
   "cell_type": "code",
   "execution_count": 39,
   "metadata": {},
   "outputs": [],
   "source": [
    "import matplotlib.patches as pc\n",
    "\n",
    "def plot_hist(data):\n",
    "    \n",
    "    freq = data\n",
    "\n",
    "    index = freq['index'].tolist()\n",
    "    values = freq['values'].tolist()\n",
    "    \n",
    "    plt.rcParams['figure.figsize'] = (17,15)\n",
    "    indx = np.arange(len(index)).tolist()\n",
    "    b = sns.barplot(x=values, y=indx, alpha=1, orient='h')\n",
    "    b.set_xticklabels(values, fontsize=10,rotation=90)\n",
    "    b.set_yticklabels(indx, fontsize=8)\n",
    "    Boxes = [item for item in b.get_children() if isinstance(item, pc.Rectangle)][:-1]\n",
    "    legend_patches = [pc.Patch(color=C, label=L) for C, L in zip([item.get_facecolor() for item in Boxes], index )]  \n",
    "    plt.title(\"Frequency of Crimes\")\n",
    "    plt.ylabel('Type of crime', fontsize=12)\n",
    "    plt.xlabel('Number of crimes', fontsize=12)\n",
    "    plt.xlim(min(values)/4, 1.05 * max(values))\n",
    "    plt.legend(handles=legend_patches)\n",
    "    # plt.show()\n",
    "    # plt.savefig('crimes_freq.png', dpi=200)"
   ]
  },
  {
   "cell_type": "code",
   "execution_count": 40,
   "metadata": {},
   "outputs": [],
   "source": [
    "def remove_objects(data, keep_column):\n",
    "    x = data[keep_column].value_counts()\n",
    "    freq = pd.DataFrame()\n",
    "    freq['index'] = x.index\n",
    "    freq['values'] = x.values\n",
    "    freq = freq.query('values > 800')\n",
    "    return freq"
   ]
  },
  {
   "cell_type": "code",
   "execution_count": 41,
   "metadata": {},
   "outputs": [
    {
     "data": {
      "text/html": [
       "<div>\n",
       "<style scoped>\n",
       "    .dataframe tbody tr th:only-of-type {\n",
       "        vertical-align: middle;\n",
       "    }\n",
       "\n",
       "    .dataframe tbody tr th {\n",
       "        vertical-align: top;\n",
       "    }\n",
       "\n",
       "    .dataframe thead th {\n",
       "        text-align: right;\n",
       "    }\n",
       "</style>\n",
       "<table border=\"1\" class=\"dataframe\">\n",
       "  <thead>\n",
       "    <tr style=\"text-align: right;\">\n",
       "      <th></th>\n",
       "      <th>Beat</th>\n",
       "      <th>District</th>\n",
       "      <th>Ward</th>\n",
       "      <th>Community Area</th>\n",
       "      <th>Year</th>\n",
       "      <th>Latitude</th>\n",
       "      <th>Longitude</th>\n",
       "      <th>Hour</th>\n",
       "      <th>Month</th>\n",
       "      <th>Day</th>\n",
       "      <th>Primary Type</th>\n",
       "      <th>Arrest</th>\n",
       "      <th>Domestic</th>\n",
       "      <th>Cluster</th>\n",
       "    </tr>\n",
       "  </thead>\n",
       "  <tbody>\n",
       "    <tr>\n",
       "      <th>5</th>\n",
       "      <td>631</td>\n",
       "      <td>6</td>\n",
       "      <td>8</td>\n",
       "      <td>44</td>\n",
       "      <td>2016</td>\n",
       "      <td>41.7454</td>\n",
       "      <td>-87.6038</td>\n",
       "      <td>22</td>\n",
       "      <td>5</td>\n",
       "      <td>3</td>\n",
       "      <td>BATTERY</td>\n",
       "      <td>0</td>\n",
       "      <td>0</td>\n",
       "      <td>0.0</td>\n",
       "    </tr>\n",
       "    <tr>\n",
       "      <th>9</th>\n",
       "      <td>735</td>\n",
       "      <td>7</td>\n",
       "      <td>17</td>\n",
       "      <td>67</td>\n",
       "      <td>2016</td>\n",
       "      <td>41.7681</td>\n",
       "      <td>-87.6639</td>\n",
       "      <td>22</td>\n",
       "      <td>5</td>\n",
       "      <td>3</td>\n",
       "      <td>BATTERY</td>\n",
       "      <td>0</td>\n",
       "      <td>1</td>\n",
       "      <td>0.0</td>\n",
       "    </tr>\n",
       "    <tr>\n",
       "      <th>15</th>\n",
       "      <td>831</td>\n",
       "      <td>8</td>\n",
       "      <td>18</td>\n",
       "      <td>66</td>\n",
       "      <td>2016</td>\n",
       "      <td>41.7621</td>\n",
       "      <td>-87.6966</td>\n",
       "      <td>16</td>\n",
       "      <td>5</td>\n",
       "      <td>3</td>\n",
       "      <td>BATTERY</td>\n",
       "      <td>0</td>\n",
       "      <td>1</td>\n",
       "      <td>0.0</td>\n",
       "    </tr>\n",
       "    <tr>\n",
       "      <th>27</th>\n",
       "      <td>915</td>\n",
       "      <td>9</td>\n",
       "      <td>11</td>\n",
       "      <td>34</td>\n",
       "      <td>2016</td>\n",
       "      <td>41.8346</td>\n",
       "      <td>-87.6323</td>\n",
       "      <td>12</td>\n",
       "      <td>5</td>\n",
       "      <td>3</td>\n",
       "      <td>DECEPTIVE PRACTICE</td>\n",
       "      <td>0</td>\n",
       "      <td>0</td>\n",
       "      <td>0.0</td>\n",
       "    </tr>\n",
       "    <tr>\n",
       "      <th>28</th>\n",
       "      <td>821</td>\n",
       "      <td>8</td>\n",
       "      <td>14</td>\n",
       "      <td>58</td>\n",
       "      <td>2016</td>\n",
       "      <td>41.8147</td>\n",
       "      <td>-87.7055</td>\n",
       "      <td>12</td>\n",
       "      <td>5</td>\n",
       "      <td>3</td>\n",
       "      <td>DECEPTIVE PRACTICE</td>\n",
       "      <td>0</td>\n",
       "      <td>0</td>\n",
       "      <td>0.0</td>\n",
       "    </tr>\n",
       "  </tbody>\n",
       "</table>\n",
       "</div>"
      ],
      "text/plain": [
       "   Beat District Ward Community Area  Year Latitude Longitude Hour Month Day  \\\n",
       "5   631        6    8             44  2016  41.7454  -87.6038   22     5   3   \n",
       "9   735        7   17             67  2016  41.7681  -87.6639   22     5   3   \n",
       "15  831        8   18             66  2016  41.7621  -87.6966   16     5   3   \n",
       "27  915        9   11             34  2016  41.8346  -87.6323   12     5   3   \n",
       "28  821        8   14             58  2016  41.8147  -87.7055   12     5   3   \n",
       "\n",
       "          Primary Type Arrest Domestic  Cluster  \n",
       "5              BATTERY      0        0      0.0  \n",
       "9              BATTERY      0        1      0.0  \n",
       "15             BATTERY      0        1      0.0  \n",
       "27  DECEPTIVE PRACTICE      0        0      0.0  \n",
       "28  DECEPTIVE PRACTICE      0        0      0.0  "
      ]
     },
     "execution_count": 41,
     "metadata": {},
     "output_type": "execute_result"
    }
   ],
   "source": [
    "data_cluster_1 = data[data['Cluster'] == 0]\n",
    "data_cluster_2 = data[data['Cluster'] == 1]\n",
    "data_cluster_3 = data[data['Cluster'] == 2]\n",
    "data_cluster_4 = data[data['Cluster'] == 3]\n",
    "data_cluster_5 = data[data['Cluster'] == 4]\n",
    "\n",
    "data_cluster_1.head()"
   ]
  },
  {
   "cell_type": "markdown",
   "metadata": {},
   "source": [
    "Analysing each cluster on 'Primary Type' column:"
   ]
  },
  {
   "cell_type": "code",
   "execution_count": 42,
   "metadata": {},
   "outputs": [
    {
     "data": {
      "text/plain": [
       "THEFT                  73820\n",
       "BATTERY                59009\n",
       "CRIMINAL DAMAGE        34836\n",
       "NARCOTICS              30554\n",
       "ASSAULT                20275\n",
       "OTHER OFFENSE          19619\n",
       "BURGLARY               18767\n",
       "DECEPTIVE PRACTICE     15312\n",
       "MOTOR VEHICLE THEFT    13633\n",
       "ROBBERY                12583\n",
       "Name: Primary Type, dtype: int64"
      ]
     },
     "execution_count": 42,
     "metadata": {},
     "output_type": "execute_result"
    }
   ],
   "source": [
    "data_cluster_1['Primary Type'].value_counts()[:10]"
   ]
  },
  {
   "cell_type": "code",
   "execution_count": 43,
   "metadata": {},
   "outputs": [
    {
     "data": {
      "text/plain": [
       "THEFT                  66801\n",
       "BATTERY                54006\n",
       "CRIMINAL DAMAGE        31441\n",
       "NARCOTICS              27436\n",
       "ASSAULT                18599\n",
       "OTHER OFFENSE          17588\n",
       "BURGLARY               16723\n",
       "DECEPTIVE PRACTICE     14134\n",
       "MOTOR VEHICLE THEFT    12430\n",
       "ROBBERY                11698\n",
       "Name: Primary Type, dtype: int64"
      ]
     },
     "execution_count": 43,
     "metadata": {},
     "output_type": "execute_result"
    }
   ],
   "source": [
    "data_cluster_2['Primary Type'].value_counts()[:10]"
   ]
  },
  {
   "cell_type": "code",
   "execution_count": 44,
   "metadata": {},
   "outputs": [
    {
     "data": {
      "text/plain": [
       "THEFT                  37355\n",
       "BATTERY                30379\n",
       "CRIMINAL DAMAGE        17864\n",
       "NARCOTICS              15565\n",
       "ASSAULT                10523\n",
       "OTHER OFFENSE           9854\n",
       "BURGLARY                9614\n",
       "DECEPTIVE PRACTICE      7828\n",
       "MOTOR VEHICLE THEFT     6988\n",
       "ROBBERY                 6478\n",
       "Name: Primary Type, dtype: int64"
      ]
     },
     "execution_count": 44,
     "metadata": {},
     "output_type": "execute_result"
    }
   ],
   "source": [
    "data_cluster_3['Primary Type'].value_counts()[:10]"
   ]
  },
  {
   "cell_type": "code",
   "execution_count": 45,
   "metadata": {},
   "outputs": [
    {
     "data": {
      "text/plain": [
       "THEFT                  74819\n",
       "BATTERY                60520\n",
       "CRIMINAL DAMAGE        35849\n",
       "NARCOTICS              30989\n",
       "ASSAULT                21020\n",
       "OTHER OFFENSE          19846\n",
       "BURGLARY               19073\n",
       "DECEPTIVE PRACTICE     15564\n",
       "MOTOR VEHICLE THEFT    13838\n",
       "ROBBERY                12925\n",
       "Name: Primary Type, dtype: int64"
      ]
     },
     "execution_count": 45,
     "metadata": {},
     "output_type": "execute_result"
    }
   ],
   "source": [
    "data_cluster_4['Primary Type'].value_counts()[:10]"
   ]
  },
  {
   "cell_type": "code",
   "execution_count": 46,
   "metadata": {},
   "outputs": [
    {
     "data": {
      "image/png": "[encoded data removed]",
      "text/plain": [
       "<Figure size 1224x1080 with 1 Axes>"
      ]
     },
     "metadata": {},
     "output_type": "display_data"
    }
   ],
   "source": [
    "freq = remove_objects(data_cluster_1, 'Primary Type')\n",
    "plot_hist(freq)"
   ]
  },
  {
   "cell_type": "code",
   "execution_count": 47,
   "metadata": {},
   "outputs": [
    {
     "data": {
      "text/html": [
       "<div>\n",
       "<style scoped>\n",
       "    .dataframe tbody tr th:only-of-type {\n",
       "        vertical-align: middle;\n",
       "    }\n",
       "\n",
       "    .dataframe tbody tr th {\n",
       "        vertical-align: top;\n",
       "    }\n",
       "\n",
       "    .dataframe thead th {\n",
       "        text-align: right;\n",
       "    }\n",
       "</style>\n",
       "<table border=\"1\" class=\"dataframe\">\n",
       "  <thead>\n",
       "    <tr style=\"text-align: right;\">\n",
       "      <th></th>\n",
       "      <th>Beat</th>\n",
       "      <th>District</th>\n",
       "      <th>Ward</th>\n",
       "      <th>Community Area</th>\n",
       "      <th>Year</th>\n",
       "      <th>Latitude</th>\n",
       "      <th>Longitude</th>\n",
       "      <th>Hour</th>\n",
       "      <th>Month</th>\n",
       "      <th>Day</th>\n",
       "      <th>Primary Type</th>\n",
       "      <th>Arrest</th>\n",
       "      <th>Domestic</th>\n",
       "      <th>Cluster</th>\n",
       "    </tr>\n",
       "  </thead>\n",
       "  <tbody>\n",
       "    <tr>\n",
       "      <th>0</th>\n",
       "      <td>1022</td>\n",
       "      <td>10</td>\n",
       "      <td>24</td>\n",
       "      <td>29</td>\n",
       "      <td>2016</td>\n",
       "      <td>41.8641</td>\n",
       "      <td>-87.7068</td>\n",
       "      <td>23</td>\n",
       "      <td>5</td>\n",
       "      <td>3</td>\n",
       "      <td>BATTERY</td>\n",
       "      <td>1</td>\n",
       "      <td>1</td>\n",
       "      <td>4.0</td>\n",
       "    </tr>\n",
       "    <tr>\n",
       "      <th>1</th>\n",
       "      <td>313</td>\n",
       "      <td>3</td>\n",
       "      <td>20</td>\n",
       "      <td>42</td>\n",
       "      <td>2016</td>\n",
       "      <td>41.7829</td>\n",
       "      <td>-87.6044</td>\n",
       "      <td>21</td>\n",
       "      <td>5</td>\n",
       "      <td>3</td>\n",
       "      <td>BATTERY</td>\n",
       "      <td>0</td>\n",
       "      <td>1</td>\n",
       "      <td>3.0</td>\n",
       "    </tr>\n",
       "    <tr>\n",
       "      <th>2</th>\n",
       "      <td>1524</td>\n",
       "      <td>15</td>\n",
       "      <td>37</td>\n",
       "      <td>25</td>\n",
       "      <td>2016</td>\n",
       "      <td>41.8949</td>\n",
       "      <td>-87.7584</td>\n",
       "      <td>23</td>\n",
       "      <td>5</td>\n",
       "      <td>3</td>\n",
       "      <td>PUBLIC PEACE VIOLATION</td>\n",
       "      <td>0</td>\n",
       "      <td>0</td>\n",
       "      <td>1.0</td>\n",
       "    </tr>\n",
       "    <tr>\n",
       "      <th>3</th>\n",
       "      <td>1532</td>\n",
       "      <td>15</td>\n",
       "      <td>28</td>\n",
       "      <td>25</td>\n",
       "      <td>2016</td>\n",
       "      <td>41.8857</td>\n",
       "      <td>-87.7495</td>\n",
       "      <td>22</td>\n",
       "      <td>5</td>\n",
       "      <td>3</td>\n",
       "      <td>BATTERY</td>\n",
       "      <td>0</td>\n",
       "      <td>0</td>\n",
       "      <td>1.0</td>\n",
       "    </tr>\n",
       "    <tr>\n",
       "      <th>4</th>\n",
       "      <td>1523</td>\n",
       "      <td>15</td>\n",
       "      <td>28</td>\n",
       "      <td>25</td>\n",
       "      <td>2016</td>\n",
       "      <td>41.8863</td>\n",
       "      <td>-87.7618</td>\n",
       "      <td>22</td>\n",
       "      <td>5</td>\n",
       "      <td>3</td>\n",
       "      <td>THEFT</td>\n",
       "      <td>0</td>\n",
       "      <td>1</td>\n",
       "      <td>1.0</td>\n",
       "    </tr>\n",
       "  </tbody>\n",
       "</table>\n",
       "</div>"
      ],
      "text/plain": [
       "   Beat District Ward Community Area  Year Latitude Longitude Hour Month Day  \\\n",
       "0  1022       10   24             29  2016  41.8641  -87.7068   23     5   3   \n",
       "1   313        3   20             42  2016  41.7829  -87.6044   21     5   3   \n",
       "2  1524       15   37             25  2016  41.8949  -87.7584   23     5   3   \n",
       "3  1532       15   28             25  2016  41.8857  -87.7495   22     5   3   \n",
       "4  1523       15   28             25  2016  41.8863  -87.7618   22     5   3   \n",
       "\n",
       "             Primary Type Arrest Domestic  Cluster  \n",
       "0                 BATTERY      1        1      4.0  \n",
       "1                 BATTERY      0        1      3.0  \n",
       "2  PUBLIC PEACE VIOLATION      0        0      1.0  \n",
       "3                 BATTERY      0        0      1.0  \n",
       "4                   THEFT      0        1      1.0  "
      ]
     },
     "execution_count": 47,
     "metadata": {},
     "output_type": "execute_result"
    }
   ],
   "source": [
    "data.head()"
   ]
  },
  {
   "cell_type": "code",
   "execution_count": null,
   "metadata": {},
   "outputs": [],
   "source": []
  }
 ],
 "metadata": {
  "kernelspec": {
   "display_name": "Python 3",
   "language": "python",
   "name": "python3"
  },
  "language_info": {
   "codemirror_mode": {
    "name": "ipython",
    "version": 3
   },
   "file_extension": ".py",
   "mimetype": "text/x-python",
   "name": "python",
   "nbconvert_exporter": "python",
   "pygments_lexer": "ipython3",
   "version": "3.6.7"
  }
 },
 "nbformat": 4,
 "nbformat_minor": 2
}
